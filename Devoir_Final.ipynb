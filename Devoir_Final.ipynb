{
 "cells": [
  {
   "metadata": {},
   "cell_type": "markdown",
   "source": [
    "# Question 1\n",
    "Réservoir de lanceur cylindrique de 3m de diamètre, 8m de longueur et 0.123mm d'épaisseur.\n",
    "## Calcul de $N_x$ et $N_y$ induit par la pression $\\Delta p = 300$kPa"
   ],
   "id": "ccfbeb03f001ad69"
  },
  {
   "metadata": {
    "ExecuteTime": {
     "end_time": "2024-12-20T23:33:23.249598Z",
     "start_time": "2024-12-20T23:33:23.199066Z"
    }
   },
   "cell_type": "code",
   "source": [
    "import numpy as np\n",
    "delta_p = 300e3 # N/m^2 = kg/m/s^2\n",
    "R = 3 # m\n",
    "e = 0.123e-3 # m\n",
    "Nx_p = delta_p * R/2 # N/m\n",
    "Ny_p = delta_p * R\n",
    "print(f'Nx_p = {Nx_p / 1e3:.2f} kN/m')\n",
    "print(f'Ny_p = {Ny_p / 1e3:.2f} kN/m')"
   ],
   "id": "edd33734701477b8",
   "outputs": [
    {
     "name": "stdout",
     "output_type": "stream",
     "text": [
      "Nx_p = 450.00 kN/m\n",
      "Ny_p = 900.00 kN/m\n"
     ]
    }
   ],
   "execution_count": 1
  },
  {
   "metadata": {},
   "cell_type": "markdown",
   "source": "## Calcul de $N_x$ causée par $F = 3600$kN",
   "id": "aff3d31d39caff4b"
  },
  {
   "metadata": {
    "ExecuteTime": {
     "end_time": "2024-12-20T23:33:23.252521Z",
     "start_time": "2024-12-20T23:33:23.250696Z"
    }
   },
   "cell_type": "code",
   "source": [
    "F = 3600e3\n",
    "Nx_F = F / (2*np.pi*R)\n",
    "print(f'Nx_F = {Nx_F / 1e3:.2f} kN/m')"
   ],
   "id": "7441225744cf40dd",
   "outputs": [
    {
     "name": "stdout",
     "output_type": "stream",
     "text": [
      "Nx_F = 190.99 kN/m\n"
     ]
    }
   ],
   "execution_count": 2
  },
  {
   "metadata": {},
   "cell_type": "markdown",
   "source": "## Calcul de $N_{xy}$ causée par $T=1200$kN$\\cdot$m",
   "id": "eca80074f4720d96"
  },
  {
   "metadata": {
    "ExecuteTime": {
     "end_time": "2024-12-20T23:33:23.255009Z",
     "start_time": "2024-12-20T23:33:23.253087Z"
    }
   },
   "cell_type": "code",
   "source": [
    "T = 1200e3\n",
    "Nxy_T = T / (np.pi*R**2)\n",
    "print(f'Nxy_T = {Nxy_T / 1e3:.2f} kN/m')"
   ],
   "id": "3e1d88d816272fce",
   "outputs": [
    {
     "name": "stdout",
     "output_type": "stream",
     "text": [
      "Nxy_T = 42.44 kN/m\n"
     ]
    }
   ],
   "execution_count": 3
  },
  {
   "metadata": {},
   "cell_type": "markdown",
   "source": [
    "## Propositions de séquences de calculs\n",
    "Il faut minimiser D16 et D26, pour ce faire:\n",
    "- Il faut que le stratifié soit symétrique et équilibré ou croisé.\n",
    "- Il faut éviter de grouper un trop grand nombre de plis contigus dans une même direction (jamais plus de trois ou quatre).\n",
    "- Il faut un stratifié ayant au moins 4 orientations différentes $(0\\degree, \\pm\\theta, 90\\degree)$\n",
    "- Il faut alterner les couches à $+\\theta$ et $-\\theta$ et placer la paire le plus près possible\n",
    "- Il faut Placer les plis à $+45\\degree$ ou $-45\\degree$ en surface, puis les plis à $90\\degree$, et les plis à $0\\degree$.\n",
    "- Si le stratifié est chargé principalement en cisaillement, les plis à $+45\\degree$ ou $-45\\degree$ ne devraient pas être en surface."
   ],
   "id": "a8d67f75493c1d7f"
  },
  {
   "metadata": {
    "ExecuteTime": {
     "end_time": "2024-12-20T23:33:25.510478Z",
     "start_time": "2024-12-20T23:33:23.255649Z"
    }
   },
   "cell_type": "code",
   "source": [
    "from laminate import *\n",
    "from composite import *\n",
    "\n",
    "def test_angle_combinations(combinations):\n",
    "    averages = []\n",
    "    angles_list = []\n",
    "    for index, combination in enumerate(combinations):\n",
    "        safe = False\n",
    "        repetitions = 1\n",
    "        D16, D26, worst_security_factor = 0, 0, 0\n",
    "        lam, angles = None, None\n",
    "        while not safe:\n",
    "            angles = combination + f\"{repetitions}\" + \"S\"\n",
    "            lam = Laminate(thetas=LaminateAngles(angles), h=0.123, composite_type=CompositeType.IM7_977_2)\n",
    "            lam.add_forces_and_moments(ns=[Nx_F, 0, Nxy_T], ms=[0, 0, 0])\n",
    "            pressures_tsai_hill = lam.failure_pressure_criteria(d=6, criteria=FailureCriteria.TsaiHill, p=300e3)\n",
    "            security_factors = {key: pressures_tsai_hill[key]['f_s'] for key in pressures_tsai_hill.keys()}\n",
    "            worst_security_factor = min(security_factors.values())\n",
    "            D16 = lam.d_matrix[0, 2]\n",
    "            D26 = lam.d_matrix[1, 2]\n",
    "            if worst_security_factor > 3:\n",
    "                safe = True\n",
    "            else:\n",
    "                repetitions += 1\n",
    "        print(f\"Combinaison {angles} = D16: {D16}, D26: {D26}\")\n",
    "        print(f\"Nombre de plis: {len(lam.thetas)}\")\n",
    "        print(f\"Facteur de sécurité le plus bas: {worst_security_factor}\")\n",
    "        averages.append((D16 + D26) / 2)\n",
    "        angles_list.append(angles)\n",
    "    \n",
    "    best = min(averages)\n",
    "    best_index = averages.index(best)\n",
    "    rejected_combinations = [angle for index, angle in enumerate(angles_list) if index != best_index]\n",
    "    print(f\"Meilleure séquence: {angles_list[best_index]}\")\n",
    "    print(f\"Combinaisons rejetées: {rejected_combinations}\")\n",
    "    return angles_list[best_index]\n",
    "\n",
    "# \"[0_3/45/90_2/-45/90_4/45/90/-45/90_2/±45]\"\n",
    "initial_combinations = [\"[0_2/45_2/0_2/-45_2/0]\", \"[±45/90/0/±45/90/0]\", \"[0_2/±45/0_2/±45/0]\", \"[±45/±45/90_2/0]\", \"[90_2/0_2/±45]\", \"[±45/90/0]\"]\n",
    "initial_best_sequence = test_angle_combinations(initial_combinations)"
   ],
   "id": "5542294c9e492a42",
   "outputs": [
    {
     "name": "stdout",
     "output_type": "stream",
     "text": [
      "Combinaison [0_2/45_2/0_2/-45_2/0]5S = D16: 281.71824499313493, D26: 281.71824499313493\n",
      "Nombre de plis: 90\n",
      "Facteur de sécurité le plus bas: 3.16343\n",
      "Combinaison [±45/90/0/±45/90/0]3S = D16: 24.970480806209686, D26: 24.9704808062097\n",
      "Nombre de plis: 48\n",
      "Facteur de sécurité le plus bas: 4.06378\n",
      "Combinaison [0_2/±45/0_2/±45/0]5S = D16: 70.42956124828441, D26: 70.42956124828437\n",
      "Nombre de plis: 90\n",
      "Facteur de sécurité le plus bas: 3.16343\n",
      "Combinaison [±45/±45/90_2/0]3S = D16: 23.049674590347372, D26: 23.049674590347404\n",
      "Nombre de plis: 42\n",
      "Facteur de sécurité le plus bas: 3.87216\n",
      "Combinaison [90_2/0_2/±45]3S = D16: 6.722821755517985, D26: 6.722821755518018\n",
      "Nombre de plis: 36\n",
      "Facteur de sécurité le plus bas: 3.11159\n",
      "Combinaison [±45/90/0]5S = D16: 17.60739031207094, D26: 17.607390312070947\n",
      "Nombre de plis: 40\n",
      "Facteur de sécurité le plus bas: 3.38648\n",
      "Meilleure séquence: [90_2/0_2/±45]3S\n",
      "Combinaisons rejetées: ['[0_2/45_2/0_2/-45_2/0]5S', '[±45/90/0/±45/90/0]3S', '[0_2/±45/0_2/±45/0]5S', '[±45/±45/90_2/0]3S', '[±45/90/0]5S']\n"
     ]
    }
   ],
   "execution_count": 4
  },
  {
   "metadata": {
    "ExecuteTime": {
     "end_time": "2024-12-20T23:33:26.670907Z",
     "start_time": "2024-12-20T23:33:25.512008Z"
    }
   },
   "cell_type": "code",
   "source": [
    "second_combinations = [\"[90_2/0_2/±45]\", \"[90_3/0_2/±45]\", \"[90_2/0_3/±45]\", \"[90_2/0_2/±45_2]\", \"[90_2/0_2/±45/0_2]\", \"[90_2/0_2/±45/0_3]\"]\n",
    "second_best_sequence = test_angle_combinations(second_combinations)"
   ],
   "id": "7fc89c0e77500832",
   "outputs": [
    {
     "name": "stdout",
     "output_type": "stream",
     "text": [
      "Combinaison [90_2/0_2/±45]3S = D16: 6.722821755517985, D26: 6.722821755518018\n",
      "Nombre de plis: 36\n",
      "Facteur de sécurité le plus bas: 3.11159\n",
      "Combinaison [90_3/0_2/±45]3S = D16: 7.683224863449137, D26: 7.683224863449196\n",
      "Nombre de plis: 42\n",
      "Facteur de sécurité le plus bas: 3.78746\n",
      "Combinaison [90_2/0_3/±45]3S = D16: 7.683224863449137, D26: 7.683224863449177\n",
      "Nombre de plis: 42\n",
      "Facteur de sécurité le plus bas: 3.27636\n",
      "Combinaison [90_2/0_2/±45_2]3S = D16: 19.208062158622816, D26: 19.208062158622855\n",
      "Nombre de plis: 48\n",
      "Facteur de sécurité le plus bas: 4.06378\n",
      "Combinaison [90_2/0_2/±45/0_2]3S = D16: 10.56443418724254, D26: 10.564434187242592\n",
      "Nombre de plis: 48\n",
      "Facteur de sécurité le plus bas: 3.39738\n",
      "Combinaison [90_2/0_2/±45/0_3]3S = D16: 12.485240403104797, D26: 12.485240403104884\n",
      "Nombre de plis: 54\n",
      "Facteur de sécurité le plus bas: 3.49888\n",
      "Meilleure séquence: [90_2/0_2/±45]3S\n",
      "Combinaisons rejetées: ['[90_3/0_2/±45]3S', '[90_2/0_3/±45]3S', '[90_2/0_2/±45_2]3S', '[90_2/0_2/±45/0_2]3S', '[90_2/0_2/±45/0_3]3S']\n"
     ]
    }
   ],
   "execution_count": 5
  },
  {
   "metadata": {
    "ExecuteTime": {
     "end_time": "2024-12-20T23:33:27.753077Z",
     "start_time": "2024-12-20T23:33:26.671549Z"
    }
   },
   "cell_type": "code",
   "source": [
    "third_combinations = [\"[90_2/0_2/±45]\", \"[±45_2/90_2/ 0_2]\", \"[±45_3/ 90_2/ 0]\", \"[±45/ 90_2/ 0_2]\", \"[±45/ 90_3/ 0_2]\", \"[±45/ 90_2/ 0_3]\"]\n",
    "third_best_sequence = test_angle_combinations(third_combinations)"
   ],
   "id": "62e4caa665063a2a",
   "outputs": [
    {
     "name": "stdout",
     "output_type": "stream",
     "text": [
      "Combinaison [90_2/0_2/±45]3S = D16: 6.722821755517985, D26: 6.722821755518018\n",
      "Nombre de plis: 36\n",
      "Facteur de sécurité le plus bas: 3.11159\n",
      "Combinaison [±45_2/90_2/ 0_2]3S = D16: 26.891287022071914, D26: 26.891287022071925\n",
      "Nombre de plis: 48\n",
      "Facteur de sécurité le plus bas: 4.06378\n",
      "Combinaison [±45_3/ 90_2/ 0]2S = D16: 20.168465266553948, D26: 20.168465266553934\n",
      "Nombre de plis: 36\n",
      "Facteur de sécurité le plus bas: 3.24132\n",
      "Combinaison [±45/ 90_2/ 0_2]3S = D16: 10.564434187242535, D26: 10.564434187242544\n",
      "Nombre de plis: 36\n",
      "Facteur de sécurité le plus bas: 3.11159\n",
      "Combinaison [±45/ 90_3/ 0_2]3S = D16: 12.485240403104797, D26: 12.485240403104854\n",
      "Nombre de plis: 42\n",
      "Facteur de sécurité le plus bas: 3.78746\n",
      "Combinaison [±45/ 90_2/ 0_3]3S = D16: 12.485240403104797, D26: 12.48524040310484\n",
      "Nombre de plis: 42\n",
      "Facteur de sécurité le plus bas: 3.27636\n",
      "Meilleure séquence: [90_2/0_2/±45]3S\n",
      "Combinaisons rejetées: ['[±45_2/90_2/ 0_2]3S', '[±45_3/ 90_2/ 0]2S', '[±45/ 90_2/ 0_2]3S', '[±45/ 90_3/ 0_2]3S', '[±45/ 90_2/ 0_3]3S']\n"
     ]
    }
   ],
   "execution_count": 6
  },
  {
   "metadata": {
    "ExecuteTime": {
     "end_time": "2024-12-20T23:33:29.368686Z",
     "start_time": "2024-12-20T23:33:27.753774Z"
    }
   },
   "cell_type": "code",
   "source": [
    "fourth_combinations = [\"[90_2/0_2/±45]\", \"[90_2/±45/0]\", \"[90_2/0/±45]\", \"[90/0/±45]\", \"[90/±45/0]\", \"[90/0/±45]\"]\n",
    "fourth_best_sequence = test_angle_combinations(fourth_combinations)"
   ],
   "id": "678364a167e74ee",
   "outputs": [
    {
     "name": "stdout",
     "output_type": "stream",
     "text": [
      "Combinaison [90_2/0_2/±45]3S = D16: 6.722821755517985, D26: 6.722821755518018\n",
      "Nombre de plis: 36\n",
      "Facteur de sécurité le plus bas: 3.11159\n",
      "Combinaison [90_2/±45/0]4S = D16: 12.165106033794459, D26: 12.165106033794489\n",
      "Nombre de plis: 40\n",
      "Facteur de sécurité le plus bas: 3.61455\n",
      "Combinaison [90_2/0/±45]4S = D16: 10.884568556552937, D26: 10.884568556552994\n",
      "Nombre de plis: 40\n",
      "Facteur de sécurité le plus bas: 3.61455\n",
      "Combinaison [90/0/±45]5S = D16: 14.40604661896709, D26: 14.406046618967103\n",
      "Nombre de plis: 40\n",
      "Facteur de sécurité le plus bas: 3.38648\n",
      "Combinaison [90/±45/0]5S = D16: 16.006718465519082, D26: 16.006718465519114\n",
      "Nombre de plis: 40\n",
      "Facteur de sécurité le plus bas: 3.38648\n",
      "Combinaison [90/0/±45]5S = D16: 14.40604661896709, D26: 14.406046618967103\n",
      "Nombre de plis: 40\n",
      "Facteur de sécurité le plus bas: 3.38648\n",
      "Meilleure séquence: [90_2/0_2/±45]3S\n",
      "Combinaisons rejetées: ['[90_2/±45/0]4S', '[90_2/0/±45]4S', '[90/0/±45]5S', '[90/±45/0]5S', '[90/0/±45]5S']\n"
     ]
    }
   ],
   "execution_count": 7
  },
  {
   "metadata": {
    "ExecuteTime": {
     "end_time": "2024-12-20T23:33:40.777977Z",
     "start_time": "2024-12-20T23:33:29.369675Z"
    }
   },
   "cell_type": "code",
   "source": [
    "def combination_generator(initial_combination: str, n: int):\n",
    "    combinations = [initial_combination]\n",
    "    segments = initial_combination.split(\"/\")\n",
    "    for i in range(n):\n",
    "        for j in range(n):\n",
    "            for k in range(n):\n",
    "                new_combination = \"\"\n",
    "                for segment in segments:\n",
    "                    if '[' in segment:\n",
    "                        new_segment = segment + f\"_{i+1}\"\n",
    "                        new_combination += new_segment + \"/\"\n",
    "                    elif ']' in segment:\n",
    "                        new_segment = segment.replace(\"]\", f\"_{k+1}]\")\n",
    "                        new_combination += new_segment\n",
    "                    else:\n",
    "                        new_segment = segment + f\"_{j+1}\"\n",
    "                        new_combination += new_segment + \"/\"\n",
    "                combinations.append(new_combination)\n",
    "    return combinations\n",
    "\n",
    "test_90_0_45 = combination_generator(\"[90/0/±45]\", 4)\n",
    "best_sequence_of_90_0_45 = test_angle_combinations(test_90_0_45)"
   ],
   "id": "cfb09b97827a94c8",
   "outputs": [
    {
     "name": "stdout",
     "output_type": "stream",
     "text": [
      "Combinaison [90/0/±45]5S = D16: 14.40604661896709, D26: 14.406046618967103\n",
      "Nombre de plis: 40\n",
      "Facteur de sécurité le plus bas: 3.38648\n",
      "Combinaison [90_1/0_1/±45_1]5S = D16: 14.40604661896709, D26: 14.406046618967103\n",
      "Nombre de plis: 40\n",
      "Facteur de sécurité le plus bas: 3.38648\n",
      "Combinaison [90_1/0_1/±45_2]4S = D16: 28.171824499313455, D26: 28.171824499313466\n",
      "Nombre de plis: 48\n",
      "Facteur de sécurité le plus bas: 3.91633\n",
      "Combinaison [90_1/0_1/±45_3]3S = D16: 31.693302561727595, D26: 31.693302561727585\n",
      "Nombre de plis: 48\n",
      "Facteur de sécurité le plus bas: 3.79863\n",
      "Combinaison [90_1/0_1/±45_4]2S = D16: 23.049674590347358, D26: 23.049674590347358\n",
      "Nombre de plis: 40\n",
      "Facteur de sécurité le plus bas: 3.08624\n",
      "Combinaison [90_1/0_2/±45_1]5S = D16: 17.607390312070812, D26: 17.60739031207085\n",
      "Nombre de plis: 50\n",
      "Facteur de sécurité le plus bas: 3.56507\n",
      "Combinaison [90_1/0_2/±45_2]4S = D16: 32.013436931038044, D26: 32.013436931038086\n",
      "Nombre de plis: 56\n",
      "Facteur de sécurité le plus bas: 3.99583\n",
      "Combinaison [90_1/0_2/±45_3]3S = D16: 34.57451188552122, D26: 34.57451188552122\n",
      "Nombre de plis: 54\n",
      "Facteur de sécurité le plus bas: 3.83195\n",
      "Combinaison [90_1/0_2/±45_4]2S = D16: 24.330212067588977, D26: 24.330212067589006\n",
      "Nombre de plis: 44\n",
      "Facteur de sécurité le plus bas: 3.09960\n",
      "Combinaison [90_1/0_3/±45_1]5S = D16: 20.80873400517483, D26: 20.808734005174884\n",
      "Nombre de plis: 60\n",
      "Facteur de sécurité le plus bas: 3.70170\n",
      "Combinaison [90_1/0_3/±45_2]3S = D16: 19.208062158622816, D26: 19.208062158622827\n",
      "Nombre de plis: 48\n",
      "Facteur de sécurité le plus bas: 3.05814\n",
      "Combinaison [90_1/0_3/±45_3]3S = D16: 37.455721209314774, D26: 37.455721209314795\n",
      "Nombre de plis: 60\n",
      "Facteur de sécurité le plus bas: 3.88029\n",
      "Combinaison [90_1/0_3/±45_4]2S = D16: 25.61074954483046, D26: 25.61074954483046\n",
      "Nombre de plis: 48\n",
      "Facteur de sécurité le plus bas: 3.12684\n",
      "Combinaison [90_1/0_4/±45_1]4S = D16: 14.726180988277491, D26: 14.726180988277534\n",
      "Nombre de plis: 56\n",
      "Facteur de sécurité le plus bas: 3.06196\n",
      "Combinaison [90_1/0_4/±45_2]3S = D16: 21.128868374485123, D26: 21.128868374485158\n",
      "Nombre de plis: 54\n",
      "Facteur de sécurité le plus bas: 3.12181\n",
      "Combinaison [90_1/0_4/±45_3]3S = D16: 40.33693053310774, D26: 40.336930533107804\n",
      "Nombre de plis: 66\n",
      "Facteur de sécurité le plus bas: 3.93612\n",
      "Combinaison [90_1/0_4/±45_4]2S = D16: 26.891287022071914, D26: 26.89128702207195\n",
      "Nombre de plis: 52\n",
      "Facteur de sécurité le plus bas: 3.16080\n",
      "Combinaison [90_2/0_1/±45_1]4S = D16: 10.884568556552937, D26: 10.884568556552994\n",
      "Nombre de plis: 40\n",
      "Facteur de sécurité le plus bas: 3.61455\n",
      "Combinaison [90_2/0_1/±45_2]3S = D16: 17.287255942760538, D26: 17.287255942760552\n",
      "Nombre de plis: 42\n",
      "Facteur de sécurité le plus bas: 3.87216\n",
      "Combinaison [90_2/0_1/±45_3]2S = D16: 14.406046618967201, D26: 14.406046618967222\n",
      "Nombre de plis: 36\n",
      "Facteur de sécurité le plus bas: 3.24132\n",
      "Combinaison [90_2/0_1/±45_4]2S = D16: 24.330212067588977, D26: 24.33021206758902\n",
      "Nombre de plis: 44\n",
      "Facteur de sécurité le plus bas: 3.86922\n",
      "Combinaison [90_2/0_2/±45_1]3S = D16: 6.722821755517985, D26: 6.722821755518018\n",
      "Nombre de plis: 36\n",
      "Facteur de sécurité le plus bas: 3.11159\n",
      "Combinaison [90_2/0_2/±45_2]3S = D16: 19.208062158622816, D26: 19.208062158622855\n",
      "Nombre de plis: 48\n",
      "Facteur de sécurité le plus bas: 4.06378\n",
      "Combinaison [90_2/0_2/±45_3]2S = D16: 15.36644972689826, D26: 15.366449726898287\n",
      "Nombre de plis: 40\n",
      "Facteur de sécurité le plus bas: 3.32158\n",
      "Combinaison [90_2/0_2/±45_4]2S = D16: 25.61074954483046, D26: 25.610749544830487\n",
      "Nombre de plis: 48\n",
      "Facteur de sécurité le plus bas: 3.91633\n",
      "Combinaison [90_2/0_3/±45_1]3S = D16: 7.683224863449137, D26: 7.683224863449177\n",
      "Nombre de plis: 42\n",
      "Facteur de sécurité le plus bas: 3.27636\n",
      "Combinaison [90_2/0_3/±45_2]3S = D16: 21.128868374485123, D26: 21.128868374485194\n",
      "Nombre de plis: 54\n",
      "Facteur de sécurité le plus bas: 4.18304\n",
      "Combinaison [90_2/0_3/±45_3]2S = D16: 16.32685283482946, D26: 16.326852834829502\n",
      "Nombre de plis: 44\n",
      "Facteur de sécurité le plus bas: 3.37837\n",
      "Combinaison [90_2/0_3/±45_4]2S = D16: 26.891287022071914, D26: 26.891287022071975\n",
      "Nombre de plis: 52\n",
      "Facteur de sécurité le plus bas: 3.95627\n",
      "Combinaison [90_2/0_4/±45_1]3S = D16: 8.643627971380273, D26: 8.64362797138032\n",
      "Nombre de plis: 48\n",
      "Facteur de sécurité le plus bas: 3.39738\n",
      "Combinaison [90_2/0_4/±45_2]3S = D16: 23.04967459034757, D26: 23.04967459034764\n",
      "Nombre de plis: 60\n",
      "Facteur de sécurité le plus bas: 4.27809\n",
      "Combinaison [90_2/0_4/±45_3]2S = D16: 17.287255942760595, D26: 17.28725594276063\n",
      "Nombre de plis: 48\n",
      "Facteur de sécurité le plus bas: 3.42830\n",
      "Combinaison [90_2/0_4/±45_4]2S = D16: 28.17182449931353, D26: 28.17182449931358\n",
      "Nombre de plis: 56\n",
      "Facteur de sécurité le plus bas: 3.99583\n",
      "Combinaison [90_3/0_1/±45_1]4S = D16: 12.805374772415195, D26: 12.805374772415288\n",
      "Nombre de plis: 48\n",
      "Facteur de sécurité le plus bas: 3.99154\n",
      "Combinaison [90_3/0_1/±45_2]3S = D16: 19.208062158622816, D26: 19.208062158622877\n",
      "Nombre de plis: 48\n",
      "Facteur de sécurité le plus bas: 4.27433\n",
      "Combinaison [90_3/0_1/±45_3]2S = D16: 15.36644972689826, D26: 15.366449726898297\n",
      "Nombre de plis: 40\n",
      "Facteur de sécurité le plus bas: 3.65082\n",
      "Combinaison [90_3/0_1/±45_4]2S = D16: 25.61074954483046, D26: 25.610749544830504\n",
      "Nombre de plis: 48\n",
      "Facteur de sécurité le plus bas: 4.43730\n",
      "Combinaison [90_3/0_2/±45_1]3S = D16: 7.683224863449137, D26: 7.683224863449196\n",
      "Nombre de plis: 42\n",
      "Facteur de sécurité le plus bas: 3.78746\n",
      "Combinaison [90_3/0_2/±45_2]2S = D16: 8.323493602069938, D26: 8.323493602069968\n",
      "Nombre de plis: 36\n",
      "Facteur de sécurité le plus bas: 3.28525\n",
      "Combinaison [90_3/0_2/±45_3]2S = D16: 16.32685283482946, D26: 16.32685283482952\n",
      "Nombre de plis: 44\n",
      "Facteur de sécurité le plus bas: 3.95090\n",
      "Combinaison [90_3/0_2/±45_4]2S = D16: 26.891287022071914, D26: 26.891287022072\n",
      "Nombre de plis: 52\n",
      "Facteur de sécurité le plus bas: 4.59476\n",
      "Combinaison [90_3/0_3/±45_1]3S = D16: 8.643627971380273, D26: 8.643627971380347\n",
      "Nombre de plis: 48\n",
      "Facteur de sécurité le plus bas: 4.17615\n",
      "Combinaison [90_3/0_3/±45_2]2S = D16: 8.963762340690653, D26: 8.963762340690698\n",
      "Nombre de plis: 40\n",
      "Facteur de sécurité le plus bas: 3.43340\n",
      "Combinaison [90_3/0_3/±45_3]2S = D16: 17.287255942760595, D26: 17.287255942760645\n",
      "Nombre de plis: 48\n",
      "Facteur de sécurité le plus bas: 4.06378\n",
      "Combinaison [90_3/0_3/±45_4]2S = D16: 28.17182449931353, D26: 28.171824499313608\n",
      "Nombre de plis: 56\n",
      "Facteur de sécurité le plus bas: 4.67939\n",
      "Combinaison [90_3/0_4/±45_1]3S = D16: 9.604031079311412, D26: 9.604031079311513\n",
      "Nombre de plis: 54\n",
      "Facteur de sécurité le plus bas: 4.37149\n",
      "Combinaison [90_3/0_4/±45_2]2S = D16: 9.604031079311472, D26: 9.60403107931153\n",
      "Nombre de plis: 44\n",
      "Facteur de sécurité le plus bas: 3.53795\n",
      "Combinaison [90_3/0_4/±45_3]2S = D16: 18.247659050691627, D26: 18.24765905069171\n",
      "Nombre de plis: 52\n",
      "Facteur de sécurité le plus bas: 4.14716\n",
      "Combinaison [90_3/0_4/±45_4]2S = D16: 29.452361976554766, D26: 29.4523619765549\n",
      "Nombre de plis: 60\n",
      "Facteur de sécurité le plus bas: 4.74539\n",
      "Combinaison [90_4/0_1/±45_1]3S = D16: 7.683224863449137, D26: 7.683224863449214\n",
      "Nombre de plis: 42\n",
      "Facteur de sécurité le plus bas: 3.13541\n",
      "Combinaison [90_4/0_1/±45_2]3S = D16: 21.128868374485123, D26: 21.128868374485247\n",
      "Nombre de plis: 54\n",
      "Facteur de sécurité le plus bas: 4.39886\n",
      "Combinaison [90_4/0_1/±45_3]2S = D16: 16.32685283482946, D26: 16.326852834829538\n",
      "Nombre de plis: 44\n",
      "Facteur de sécurité le plus bas: 3.80148\n",
      "Combinaison [90_4/0_1/±45_4]2S = D16: 26.891287022071914, D26: 26.891287022072024\n",
      "Nombre de plis: 52\n",
      "Facteur de sécurité le plus bas: 4.68118\n",
      "Combinaison [90_4/0_2/±45_1]3S = D16: 8.643627971380273, D26: 8.643627971380367\n",
      "Nombre de plis: 48\n",
      "Facteur de sécurité le plus bas: 4.21509\n",
      "Combinaison [90_4/0_2/±45_2]2S = D16: 8.963762340690653, D26: 8.96376234069071\n",
      "Nombre de plis: 40\n",
      "Facteur de sécurité le plus bas: 3.61455\n",
      "Combinaison [90_4/0_2/±45_3]2S = D16: 17.287255942760595, D26: 17.287255942760666\n",
      "Nombre de plis: 48\n",
      "Facteur de sécurité le plus bas: 4.39767\n",
      "Combinaison [90_4/0_2/±45_4]2S = D16: 28.17182449931353, D26: 28.171824499313622\n",
      "Nombre de plis: 56\n",
      "Facteur de sécurité le plus bas: 5.16288\n",
      "Combinaison [90_4/0_3/±45_1]2S = D16: 3.521478062414201, D26: 3.5214780624142437\n",
      "Nombre de plis: 36\n",
      "Facteur de sécurité le plus bas: 3.21960\n",
      "Combinaison [90_4/0_3/±45_2]2S = D16: 9.604031079311472, D26: 9.604031079311545\n",
      "Nombre de plis: 44\n",
      "Facteur de sécurité le plus bas: 3.99002\n",
      "Combinaison [90_4/0_3/±45_3]2S = D16: 18.247659050691627, D26: 18.24765905069173\n",
      "Nombre de plis: 52\n",
      "Facteur de sécurité le plus bas: 4.65916\n",
      "Combinaison [90_4/0_3/±45_4]2S = D16: 29.452361976554766, D26: 29.452361976554926\n",
      "Nombre de plis: 60\n",
      "Facteur de sécurité le plus bas: 5.31124\n",
      "Combinaison [90_4/0_4/±45_1]2S = D16: 3.8416124317245726, D26: 3.8416124317246325\n",
      "Nombre de plis: 40\n",
      "Facteur de sécurité le plus bas: 3.48984\n",
      "Combinaison [90_4/0_4/±45_2]2S = D16: 10.24429981793223, D26: 10.244299817932312\n",
      "Nombre de plis: 48\n",
      "Facteur de sécurité le plus bas: 4.14879\n",
      "Combinaison [90_4/0_4/±45_3]2S = D16: 19.208062158622873, D26: 19.208062158622973\n",
      "Nombre de plis: 56\n",
      "Facteur de sécurité le plus bas: 4.79005\n",
      "Combinaison [90_4/0_4/±45_4]2S = D16: 30.732899453796676, D26: 30.732899453796804\n",
      "Nombre de plis: 64\n",
      "Facteur de sécurité le plus bas: 5.41837\n",
      "Meilleure séquence: [90_4/0_3/±45_1]2S\n",
      "Combinaisons rejetées: ['[90/0/±45]5S', '[90_1/0_1/±45_1]5S', '[90_1/0_1/±45_2]4S', '[90_1/0_1/±45_3]3S', '[90_1/0_1/±45_4]2S', '[90_1/0_2/±45_1]5S', '[90_1/0_2/±45_2]4S', '[90_1/0_2/±45_3]3S', '[90_1/0_2/±45_4]2S', '[90_1/0_3/±45_1]5S', '[90_1/0_3/±45_2]3S', '[90_1/0_3/±45_3]3S', '[90_1/0_3/±45_4]2S', '[90_1/0_4/±45_1]4S', '[90_1/0_4/±45_2]3S', '[90_1/0_4/±45_3]3S', '[90_1/0_4/±45_4]2S', '[90_2/0_1/±45_1]4S', '[90_2/0_1/±45_2]3S', '[90_2/0_1/±45_3]2S', '[90_2/0_1/±45_4]2S', '[90_2/0_2/±45_1]3S', '[90_2/0_2/±45_2]3S', '[90_2/0_2/±45_3]2S', '[90_2/0_2/±45_4]2S', '[90_2/0_3/±45_1]3S', '[90_2/0_3/±45_2]3S', '[90_2/0_3/±45_3]2S', '[90_2/0_3/±45_4]2S', '[90_2/0_4/±45_1]3S', '[90_2/0_4/±45_2]3S', '[90_2/0_4/±45_3]2S', '[90_2/0_4/±45_4]2S', '[90_3/0_1/±45_1]4S', '[90_3/0_1/±45_2]3S', '[90_3/0_1/±45_3]2S', '[90_3/0_1/±45_4]2S', '[90_3/0_2/±45_1]3S', '[90_3/0_2/±45_2]2S', '[90_3/0_2/±45_3]2S', '[90_3/0_2/±45_4]2S', '[90_3/0_3/±45_1]3S', '[90_3/0_3/±45_2]2S', '[90_3/0_3/±45_3]2S', '[90_3/0_3/±45_4]2S', '[90_3/0_4/±45_1]3S', '[90_3/0_4/±45_2]2S', '[90_3/0_4/±45_3]2S', '[90_3/0_4/±45_4]2S', '[90_4/0_1/±45_1]3S', '[90_4/0_1/±45_2]3S', '[90_4/0_1/±45_3]2S', '[90_4/0_1/±45_4]2S', '[90_4/0_2/±45_1]3S', '[90_4/0_2/±45_2]2S', '[90_4/0_2/±45_3]2S', '[90_4/0_2/±45_4]2S', '[90_4/0_3/±45_2]2S', '[90_4/0_3/±45_3]2S', '[90_4/0_3/±45_4]2S', '[90_4/0_4/±45_1]2S', '[90_4/0_4/±45_2]2S', '[90_4/0_4/±45_3]2S', '[90_4/0_4/±45_4]2S']\n"
     ]
    }
   ],
   "execution_count": 8
  },
  {
   "metadata": {
    "ExecuteTime": {
     "end_time": "2024-12-20T23:33:40.913684Z",
     "start_time": "2024-12-20T23:33:40.778762Z"
    }
   },
   "cell_type": "code",
   "source": [
    "print(best_sequence_of_90_0_45)\n",
    "combination_90_0_45 = best_sequence_of_90_0_45.split(\"]\")[0] + \"]\"\n",
    "winning_combination_90_0_45 = test_angle_combinations([combination_90_0_45])"
   ],
   "id": "95d5b552acd8d326",
   "outputs": [
    {
     "name": "stdout",
     "output_type": "stream",
     "text": [
      "[90_4/0_3/±45_1]2S\n",
      "Combinaison [90_4/0_3/±45_1]2S = D16: 3.521478062414201, D26: 3.5214780624142437\n",
      "Nombre de plis: 36\n",
      "Facteur de sécurité le plus bas: 3.21960\n",
      "Meilleure séquence: [90_4/0_3/±45_1]2S\n",
      "Combinaisons rejetées: []\n"
     ]
    }
   ],
   "execution_count": 9
  },
  {
   "metadata": {
    "ExecuteTime": {
     "end_time": "2024-12-20T23:33:52.415478Z",
     "start_time": "2024-12-20T23:33:40.914437Z"
    }
   },
   "cell_type": "code",
   "source": [
    "test_45_90_0 = combination_generator(\"[±45/90/0]\", 4)\n",
    "best_sequence_of_45_90_0 = test_angle_combinations(test_45_90_0)"
   ],
   "id": "ed68732a5f6e5601",
   "outputs": [
    {
     "name": "stdout",
     "output_type": "stream",
     "text": [
      "Combinaison [±45/90/0]5S = D16: 17.60739031207094, D26: 17.607390312070947\n",
      "Nombre de plis: 40\n",
      "Facteur de sécurité le plus bas: 3.38648\n",
      "Combinaison [±45_1/90_1/0_1]5S = D16: 17.60739031207094, D26: 17.607390312070947\n",
      "Nombre de plis: 40\n",
      "Facteur de sécurité le plus bas: 3.38648\n",
      "Combinaison [±45_1/90_1/0_2]5S = D16: 22.409405851726586, D26: 22.409405851726618\n",
      "Nombre de plis: 50\n",
      "Facteur de sécurité le plus bas: 3.56507\n",
      "Combinaison [±45_1/90_1/0_3]5S = D16: 27.211421391382537, D26: 27.211421391382572\n",
      "Nombre de plis: 60\n",
      "Facteur de sécurité le plus bas: 3.70170\n",
      "Combinaison [±45_1/90_1/0_4]4S = D16: 21.128868374485222, D26: 21.128868374485272\n",
      "Nombre de plis: 56\n",
      "Facteur de sécurité le plus bas: 3.06196\n",
      "Combinaison [±45_1/90_2/0_1]4S = D16: 14.726180988277555, D26: 14.726180988277584\n",
      "Nombre de plis: 40\n",
      "Facteur de sécurité le plus bas: 3.61455\n",
      "Combinaison [±45_1/90_2/0_2]3S = D16: 10.564434187242535, D26: 10.564434187242544\n",
      "Nombre de plis: 36\n",
      "Facteur de sécurité le plus bas: 3.11159\n",
      "Combinaison [±45_1/90_2/0_3]3S = D16: 12.485240403104797, D26: 12.48524040310484\n",
      "Nombre de plis: 42\n",
      "Facteur de sécurité le plus bas: 3.27636\n",
      "Combinaison [±45_1/90_2/0_4]3S = D16: 14.406046618967139, D26: 14.406046618967174\n",
      "Nombre de plis: 48\n",
      "Facteur de sécurité le plus bas: 3.39738\n",
      "Combinaison [±45_1/90_3/0_1]4S = D16: 17.92752468138128, D26: 17.927524681381342\n",
      "Nombre de plis: 48\n",
      "Facteur de sécurité le plus bas: 3.99154\n",
      "Combinaison [±45_1/90_3/0_2]3S = D16: 12.485240403104797, D26: 12.485240403104854\n",
      "Nombre de plis: 42\n",
      "Facteur de sécurité le plus bas: 3.78746\n",
      "Combinaison [±45_1/90_3/0_3]3S = D16: 14.406046618967139, D26: 14.406046618967196\n",
      "Nombre de plis: 48\n",
      "Facteur de sécurité le plus bas: 4.17615\n",
      "Combinaison [±45_1/90_3/0_4]3S = D16: 16.32685283482929, D26: 16.326852834829367\n",
      "Nombre de plis: 54\n",
      "Facteur de sécurité le plus bas: 4.37149\n",
      "Combinaison [±45_1/90_4/0_1]3S = D16: 12.485240403104797, D26: 12.485240403104868\n",
      "Nombre de plis: 42\n",
      "Facteur de sécurité le plus bas: 3.13541\n",
      "Combinaison [±45_1/90_4/0_2]3S = D16: 14.406046618967139, D26: 14.40604661896721\n",
      "Nombre de plis: 48\n",
      "Facteur de sécurité le plus bas: 4.21509\n",
      "Combinaison [±45_1/90_4/0_3]2S = D16: 8.003359232759493, D26: 8.003359232759511\n",
      "Nombre de plis: 36\n",
      "Facteur de sécurité le plus bas: 3.21960\n",
      "Combinaison [±45_1/90_4/0_4]2S = D16: 8.963762340690671, D26: 8.963762340690707\n",
      "Nombre de plis: 40\n",
      "Facteur de sécurité le plus bas: 3.48984\n",
      "Combinaison [±45_2/90_1/0_1]4S = D16: 33.29397440827954, D26: 33.293974408279524\n",
      "Nombre de plis: 48\n",
      "Facteur de sécurité le plus bas: 3.91633\n",
      "Combinaison [±45_2/90_1/0_2]4S = D16: 39.69666179448737, D26: 39.69666179448739\n",
      "Nombre de plis: 56\n",
      "Facteur de sécurité le plus bas: 3.99583\n",
      "Combinaison [±45_2/90_1/0_3]3S = D16: 26.891287022071914, D26: 26.891287022071907\n",
      "Nombre de plis: 48\n",
      "Facteur de sécurité le plus bas: 3.05814\n",
      "Combinaison [±45_2/90_1/0_4]3S = D16: 30.732899453796396, D26: 30.732899453796417\n",
      "Nombre de plis: 54\n",
      "Facteur de sécurité le plus bas: 3.12181\n",
      "Combinaison [±45_2/90_2/0_1]3S = D16: 23.049674590347372, D26: 23.049674590347404\n",
      "Nombre de plis: 42\n",
      "Facteur de sécurité le plus bas: 3.87216\n",
      "Combinaison [±45_2/90_2/0_2]3S = D16: 26.891287022071914, D26: 26.891287022071925\n",
      "Nombre de plis: 48\n",
      "Facteur de sécurité le plus bas: 4.06378\n",
      "Combinaison [±45_2/90_2/0_3]3S = D16: 30.732899453796396, D26: 30.73289945379644\n",
      "Nombre de plis: 54\n",
      "Facteur de sécurité le plus bas: 4.18304\n",
      "Combinaison [±45_2/90_2/0_4]3S = D16: 34.57451188552132, D26: 34.574511885521375\n",
      "Nombre de plis: 60\n",
      "Facteur de sécurité le plus bas: 4.27809\n",
      "Combinaison [±45_2/90_3/0_1]3S = D16: 26.891287022071914, D26: 26.891287022071943\n",
      "Nombre de plis: 48\n",
      "Facteur de sécurité le plus bas: 4.27433\n",
      "Combinaison [±45_2/90_3/0_2]2S = D16: 14.72618098827748, D26: 14.726180988277479\n",
      "Nombre de plis: 36\n",
      "Facteur de sécurité le plus bas: 3.28525\n",
      "Combinaison [±45_2/90_3/0_3]2S = D16: 16.646987204139773, D26: 16.646987204139776\n",
      "Nombre de plis: 40\n",
      "Facteur de sécurité le plus bas: 3.43340\n",
      "Combinaison [±45_2/90_3/0_4]2S = D16: 18.56779342000212, D26: 18.56779342000214\n",
      "Nombre de plis: 44\n",
      "Facteur de sécurité le plus bas: 3.53795\n",
      "Combinaison [±45_2/90_4/0_1]3S = D16: 30.732899453796396, D26: 30.732899453796477\n",
      "Nombre de plis: 54\n",
      "Facteur de sécurité le plus bas: 4.39886\n",
      "Combinaison [±45_2/90_4/0_2]2S = D16: 16.646987204139773, D26: 16.646987204139784\n",
      "Nombre de plis: 40\n",
      "Facteur de sécurité le plus bas: 3.61455\n",
      "Combinaison [±45_2/90_4/0_3]2S = D16: 18.56779342000212, D26: 18.567793420002147\n",
      "Nombre de plis: 44\n",
      "Facteur de sécurité le plus bas: 3.99002\n",
      "Combinaison [±45_2/90_4/0_4]2S = D16: 20.48859963586427, D26: 20.488599635864304\n",
      "Nombre de plis: 48\n",
      "Facteur de sécurité le plus bas: 4.14879\n",
      "Combinaison [±45_3/90_1/0_1]3S = D16: 37.45572120931447, D26: 37.45572120931444\n",
      "Nombre de plis: 48\n",
      "Facteur de sécurité le plus bas: 3.79863\n",
      "Combinaison [±45_3/90_1/0_2]3S = D16: 43.218139856901196, D26: 43.2181398569012\n",
      "Nombre de plis: 54\n",
      "Facteur de sécurité le plus bas: 3.83195\n",
      "Combinaison [±45_3/90_1/0_3]3S = D16: 48.98055850448853, D26: 48.980558504488535\n",
      "Nombre de plis: 60\n",
      "Facteur de sécurité le plus bas: 3.88029\n",
      "Combinaison [±45_3/90_1/0_4]3S = D16: 54.74297715207537, D26: 54.74297715207537\n",
      "Nombre de plis: 66\n",
      "Facteur de sécurité le plus bas: 3.93612\n",
      "Combinaison [±45_3/90_2/0_1]2S = D16: 20.168465266553948, D26: 20.168465266553934\n",
      "Nombre de plis: 36\n",
      "Facteur de sécurité le plus bas: 3.24132\n",
      "Combinaison [±45_3/90_2/0_2]2S = D16: 23.049674590347376, D26: 23.049674590347365\n",
      "Nombre de plis: 40\n",
      "Facteur de sécurité le plus bas: 3.32158\n",
      "Combinaison [±45_3/90_2/0_3]2S = D16: 25.93088391414085, D26: 25.930883914140836\n",
      "Nombre de plis: 44\n",
      "Facteur de sécurité le plus bas: 3.37837\n",
      "Combinaison [±45_3/90_2/0_4]2S = D16: 28.812093237934135, D26: 28.81209323793413\n",
      "Nombre de plis: 48\n",
      "Facteur de sécurité le plus bas: 3.42830\n",
      "Combinaison [±45_3/90_3/0_1]2S = D16: 23.049674590347376, D26: 23.049674590347365\n",
      "Nombre de plis: 40\n",
      "Facteur de sécurité le plus bas: 3.65082\n",
      "Combinaison [±45_3/90_3/0_2]2S = D16: 25.93088391414085, D26: 25.930883914140843\n",
      "Nombre de plis: 44\n",
      "Facteur de sécurité le plus bas: 3.95090\n",
      "Combinaison [±45_3/90_3/0_3]2S = D16: 28.812093237934135, D26: 28.81209323793414\n",
      "Nombre de plis: 48\n",
      "Facteur de sécurité le plus bas: 4.06378\n",
      "Combinaison [±45_3/90_3/0_4]2S = D16: 31.69330256172783, D26: 31.693302561727847\n",
      "Nombre de plis: 52\n",
      "Facteur de sécurité le plus bas: 4.14716\n",
      "Combinaison [±45_3/90_4/0_1]2S = D16: 25.93088391414085, D26: 25.93088391414085\n",
      "Nombre de plis: 44\n",
      "Facteur de sécurité le plus bas: 3.80148\n",
      "Combinaison [±45_3/90_4/0_2]2S = D16: 28.812093237934135, D26: 28.81209323793415\n",
      "Nombre de plis: 48\n",
      "Facteur de sécurité le plus bas: 4.39767\n",
      "Combinaison [±45_3/90_4/0_3]2S = D16: 31.69330256172783, D26: 31.69330256172785\n",
      "Nombre de plis: 52\n",
      "Facteur de sécurité le plus bas: 4.65916\n",
      "Combinaison [±45_3/90_4/0_4]2S = D16: 34.574511885521346, D26: 34.57451188552139\n",
      "Nombre de plis: 56\n",
      "Facteur de sécurité le plus bas: 4.79005\n",
      "Combinaison [±45_4/90_1/0_1]2S = D16: 28.17182449931346, D26: 28.171824499313434\n",
      "Nombre de plis: 40\n",
      "Facteur de sécurité le plus bas: 3.08624\n",
      "Combinaison [±45_4/90_1/0_2]2S = D16: 32.01343693103807, D26: 32.013436931038044\n",
      "Nombre de plis: 44\n",
      "Facteur de sécurité le plus bas: 3.09960\n",
      "Combinaison [±45_4/90_1/0_3]2S = D16: 35.85504936276251, D26: 35.855049362762465\n",
      "Nombre de plis: 48\n",
      "Facteur de sécurité le plus bas: 3.12684\n",
      "Combinaison [±45_4/90_1/0_4]2S = D16: 39.69666179448734, D26: 39.69666179448732\n",
      "Nombre de plis: 52\n",
      "Facteur de sécurité le plus bas: 3.16080\n",
      "Combinaison [±45_4/90_2/0_1]2S = D16: 32.01343693103807, D26: 32.01343693103805\n",
      "Nombre de plis: 44\n",
      "Facteur de sécurité le plus bas: 3.86922\n",
      "Combinaison [±45_4/90_2/0_2]2S = D16: 35.85504936276251, D26: 35.85504936276248\n",
      "Nombre de plis: 48\n",
      "Facteur de sécurité le plus bas: 3.91633\n",
      "Combinaison [±45_4/90_2/0_3]2S = D16: 39.69666179448734, D26: 39.69666179448733\n",
      "Nombre de plis: 52\n",
      "Facteur de sécurité le plus bas: 3.95627\n",
      "Combinaison [±45_4/90_2/0_4]2S = D16: 43.53827422621201, D26: 43.53827422621201\n",
      "Nombre de plis: 56\n",
      "Facteur de sécurité le plus bas: 3.99583\n",
      "Combinaison [±45_4/90_3/0_1]2S = D16: 35.85504936276251, D26: 35.85504936276248\n",
      "Nombre de plis: 48\n",
      "Facteur de sécurité le plus bas: 4.43730\n",
      "Combinaison [±45_4/90_3/0_2]2S = D16: 39.69666179448734, D26: 39.69666179448733\n",
      "Nombre de plis: 52\n",
      "Facteur de sécurité le plus bas: 4.59476\n",
      "Combinaison [±45_4/90_3/0_3]2S = D16: 43.53827422621201, D26: 43.538274226212025\n",
      "Nombre de plis: 56\n",
      "Facteur de sécurité le plus bas: 4.67939\n",
      "Combinaison [±45_4/90_3/0_4]2S = D16: 47.379886657936716, D26: 47.37988665793677\n",
      "Nombre de plis: 60\n",
      "Facteur de sécurité le plus bas: 4.74539\n",
      "Combinaison [±45_4/90_4/0_1]2S = D16: 39.69666179448734, D26: 39.69666179448735\n",
      "Nombre de plis: 52\n",
      "Facteur de sécurité le plus bas: 4.68118\n",
      "Combinaison [±45_4/90_4/0_2]2S = D16: 43.53827422621201, D26: 43.538274226212025\n",
      "Nombre de plis: 56\n",
      "Facteur de sécurité le plus bas: 5.16288\n",
      "Combinaison [±45_4/90_4/0_3]2S = D16: 47.379886657936716, D26: 47.37988665793679\n",
      "Nombre de plis: 60\n",
      "Facteur de sécurité le plus bas: 5.31124\n",
      "Combinaison [±45_4/90_4/0_4]2S = D16: 51.221499089661016, D26: 51.221499089661066\n",
      "Nombre de plis: 64\n",
      "Facteur de sécurité le plus bas: 5.41837\n",
      "Meilleure séquence: [±45_1/90_4/0_3]2S\n",
      "Combinaisons rejetées: ['[±45/90/0]5S', '[±45_1/90_1/0_1]5S', '[±45_1/90_1/0_2]5S', '[±45_1/90_1/0_3]5S', '[±45_1/90_1/0_4]4S', '[±45_1/90_2/0_1]4S', '[±45_1/90_2/0_2]3S', '[±45_1/90_2/0_3]3S', '[±45_1/90_2/0_4]3S', '[±45_1/90_3/0_1]4S', '[±45_1/90_3/0_2]3S', '[±45_1/90_3/0_3]3S', '[±45_1/90_3/0_4]3S', '[±45_1/90_4/0_1]3S', '[±45_1/90_4/0_2]3S', '[±45_1/90_4/0_4]2S', '[±45_2/90_1/0_1]4S', '[±45_2/90_1/0_2]4S', '[±45_2/90_1/0_3]3S', '[±45_2/90_1/0_4]3S', '[±45_2/90_2/0_1]3S', '[±45_2/90_2/0_2]3S', '[±45_2/90_2/0_3]3S', '[±45_2/90_2/0_4]3S', '[±45_2/90_3/0_1]3S', '[±45_2/90_3/0_2]2S', '[±45_2/90_3/0_3]2S', '[±45_2/90_3/0_4]2S', '[±45_2/90_4/0_1]3S', '[±45_2/90_4/0_2]2S', '[±45_2/90_4/0_3]2S', '[±45_2/90_4/0_4]2S', '[±45_3/90_1/0_1]3S', '[±45_3/90_1/0_2]3S', '[±45_3/90_1/0_3]3S', '[±45_3/90_1/0_4]3S', '[±45_3/90_2/0_1]2S', '[±45_3/90_2/0_2]2S', '[±45_3/90_2/0_3]2S', '[±45_3/90_2/0_4]2S', '[±45_3/90_3/0_1]2S', '[±45_3/90_3/0_2]2S', '[±45_3/90_3/0_3]2S', '[±45_3/90_3/0_4]2S', '[±45_3/90_4/0_1]2S', '[±45_3/90_4/0_2]2S', '[±45_3/90_4/0_3]2S', '[±45_3/90_4/0_4]2S', '[±45_4/90_1/0_1]2S', '[±45_4/90_1/0_2]2S', '[±45_4/90_1/0_3]2S', '[±45_4/90_1/0_4]2S', '[±45_4/90_2/0_1]2S', '[±45_4/90_2/0_2]2S', '[±45_4/90_2/0_3]2S', '[±45_4/90_2/0_4]2S', '[±45_4/90_3/0_1]2S', '[±45_4/90_3/0_2]2S', '[±45_4/90_3/0_3]2S', '[±45_4/90_3/0_4]2S', '[±45_4/90_4/0_1]2S', '[±45_4/90_4/0_2]2S', '[±45_4/90_4/0_3]2S', '[±45_4/90_4/0_4]2S']\n"
     ]
    }
   ],
   "execution_count": 10
  },
  {
   "metadata": {
    "ExecuteTime": {
     "end_time": "2024-12-20T23:33:52.555283Z",
     "start_time": "2024-12-20T23:33:52.416219Z"
    }
   },
   "cell_type": "code",
   "source": [
    "print(best_sequence_of_45_90_0)\n",
    "combination_45_90_0 = best_sequence_of_45_90_0.split(\"]\")[0] + \"]\"\n",
    "winning_combination_45_90_0 = test_angle_combinations([combination_45_90_0])"
   ],
   "id": "d0b5a7f48f467d19",
   "outputs": [
    {
     "name": "stdout",
     "output_type": "stream",
     "text": [
      "[±45_1/90_4/0_3]2S\n",
      "Combinaison [±45_1/90_4/0_3]2S = D16: 8.003359232759493, D26: 8.003359232759511\n",
      "Nombre de plis: 36\n",
      "Facteur de sécurité le plus bas: 3.21960\n",
      "Meilleure séquence: [±45_1/90_4/0_3]2S\n",
      "Combinaisons rejetées: []\n"
     ]
    }
   ],
   "execution_count": 11
  },
  {
   "metadata": {
    "ExecuteTime": {
     "end_time": "2024-12-20T23:33:52.781916Z",
     "start_time": "2024-12-20T23:33:52.556233Z"
    }
   },
   "cell_type": "code",
   "source": [
    "best_sequence_of_all = test_angle_combinations([winning_combination_90_0_45.split(\"]\")[0] + \"]\", winning_combination_45_90_0.split(\"]\")[0] + \"]\"])\n",
    "print(\"Meilleure séquence de tous les tests: \", best_sequence_of_all)"
   ],
   "id": "513d91fd1553cc95",
   "outputs": [
    {
     "name": "stdout",
     "output_type": "stream",
     "text": [
      "Combinaison [90_4/0_3/±45_1]2S = D16: 3.521478062414201, D26: 3.5214780624142437\n",
      "Nombre de plis: 36\n",
      "Facteur de sécurité le plus bas: 3.21960\n",
      "Combinaison [±45_1/90_4/0_3]2S = D16: 8.003359232759493, D26: 8.003359232759511\n",
      "Nombre de plis: 36\n",
      "Facteur de sécurité le plus bas: 3.21960\n",
      "Meilleure séquence: [90_4/0_3/±45_1]2S\n",
      "Combinaisons rejetées: ['[±45_1/90_4/0_3]2S']\n",
      "Meilleure séquence de tous les tests:  [90_4/0_3/±45_1]2S\n"
     ]
    }
   ],
   "execution_count": 12
  },
  {
   "metadata": {},
   "cell_type": "markdown",
   "source": [
    "# Question 2\n",
    "Quand le réservoir est rempli de carburant cryogénique, la température de la surface du réservoir\n",
    "en contact avec le carburant devient égale à la température du carburant. Bien qu’un gradient de\n",
    "température se forme à travers l’épaisseur de la paroi, on supposera que la température est constante\n",
    "et égale à $-193\\degree$C. Sachant que le réservoir a été fabriqué à $100\\degree$C:"
   ],
   "id": "3cf32bd861de0a1c"
  },
  {
   "metadata": {},
   "cell_type": "markdown",
   "source": "## a) Déterminez quelles sont les contraintes thermiques qui se développent en service dans le réservoir. Commentez les valeurs obtenues. ",
   "id": "5399691c145649e2"
  },
  {
   "metadata": {
    "ExecuteTime": {
     "end_time": "2024-12-21T00:04:08.205197Z",
     "start_time": "2024-12-21T00:04:08.127958Z"
    }
   },
   "cell_type": "code",
   "source": [
    "lam = Laminate(thetas=LaminateAngles(\"[90_4/0_3/±45]2S\"), h=0.123, composite_type=CompositeType.IM7_977_2, delta_t=293)\n",
    "lam.add_forces_and_moments(ns=[Nx_F, 0, Nxy_T], ms=[0, 0, 0])\n",
    "pressures_tsai_hill = lam.failure_pressure_criteria(d=6, criteria=FailureCriteria.TsaiHill, p=300e3, verbose=True)"
   ],
   "id": "381c021f3b64dafe",
   "outputs": [
    {
     "name": "stdout",
     "output_type": "stream",
     "text": [
      "Thermal loads: [231.022 213.363  -0.      0.      0.     -0.   ] kN/m\n"
     ]
    }
   ],
   "execution_count": 17
  },
  {
   "metadata": {},
   "cell_type": "markdown",
   "source": "## b) Ajoutez les contraintes causées par le chargement (sans le facteur de sécurité) et vérifiez si le réservoir est capable de supporter le chargement. Commentez vos résultats et discutez de votre design.",
   "id": "a60351e6553dbd9c"
  },
  {
   "metadata": {
    "ExecuteTime": {
     "end_time": "2024-12-21T00:04:10.787068Z",
     "start_time": "2024-12-21T00:04:10.783522Z"
    }
   },
   "cell_type": "code",
   "source": "print(pressures_tsai_hill)",
   "id": "7ace1660f6ee201b",
   "outputs": [
    {
     "name": "stdout",
     "output_type": "stream",
     "text": [
      "{90: {'p': 300000.0, 'f_s': 2.10008}, 0: {'p': 300000.0, 'f_s': 2.16571}, 45: {'p': 300000.0, 'f_s': 2.00817}, -45: {'p': 300000.0, 'f_s': 2.28145}}\n"
     ]
    }
   ],
   "execution_count": 18
  },
  {
   "metadata": {},
   "cell_type": "markdown",
   "source": "On remarque que toutes les couches tombent en bas du facteur de sécurité recommandé de 3. Le facteur de sécurité le plus bas est celui de la couche de $45\\degree$ qui est d'environ $2.01$.",
   "id": "548435c24021634"
  },
  {
   "metadata": {
    "ExecuteTime": {
     "end_time": "2024-12-21T00:04:13.215354Z",
     "start_time": "2024-12-21T00:04:13.150253Z"
    }
   },
   "cell_type": "code",
   "source": [
    "lam_no_temp = Laminate(thetas=LaminateAngles(\"[90_4/0_3/±45]2S\"), h=0.123, composite_type=CompositeType.IM7_977_2)\n",
    "lam_no_temp.add_forces_and_moments(ns=[Nx_F, 0, Nxy_T], ms=[0, 0, 0])\n",
    "pressures_tsai_hill_no_temp = lam_no_temp.failure_pressure_criteria(d=6, criteria=FailureCriteria.TsaiHill, p=300e3)\n",
    "print(pressures_tsai_hill_no_temp)"
   ],
   "id": "91e9d866be761c53",
   "outputs": [
    {
     "name": "stdout",
     "output_type": "stream",
     "text": [
      "{90: {'p': 300000.0, 'f_s': 3.49999}, 0: {'p': 300000.0, 'f_s': 3.29862}, 45: {'p': 300000.0, 'f_s': 3.59958}, -45: {'p': 300000.0, 'f_s': 3.21960}}\n"
     ]
    }
   ],
   "execution_count": 19
  },
  {
   "metadata": {
    "ExecuteTime": {
     "end_time": "2024-12-21T00:05:31.279548Z",
     "start_time": "2024-12-21T00:05:31.215366Z"
    }
   },
   "cell_type": "code",
   "source": [
    "lam_45 = Laminate(thetas=LaminateAngles(\"[±45/90_4/0_3]2S\"), h=0.123, composite_type=CompositeType.IM7_977_2)\n",
    "lam_45.add_forces_and_moments(ns=[Nx_F, 0, Nxy_T], ms=[0, 0, 0])\n",
    "pressures_tsai_hill_no_temp_45 = lam_45.failure_pressure_criteria(d=6, criteria=FailureCriteria.TsaiHill, p=300e3)\n",
    "print(pressures_tsai_hill_no_temp)"
   ],
   "id": "200075df20ff324d",
   "outputs": [
    {
     "name": "stdout",
     "output_type": "stream",
     "text": [
      "{90: {'p': 300000.0, 'f_s': 3.49999}, 0: {'p': 300000.0, 'f_s': 3.29862}, 45: {'p': 300000.0, 'f_s': 3.59958}, -45: {'p': 300000.0, 'f_s': 3.21960}}\n"
     ]
    }
   ],
   "execution_count": 26
  },
  {
   "metadata": {
    "ExecuteTime": {
     "end_time": "2024-12-21T00:05:35.675196Z",
     "start_time": "2024-12-21T00:05:35.607885Z"
    }
   },
   "cell_type": "code",
   "source": [
    "lam_45_w_temp = Laminate(thetas=LaminateAngles(\"[±45/90_4/0_3]2S\"), h=0.123, composite_type=CompositeType.IM7_977_2, delta_t=293)\n",
    "lam_45_w_temp.add_forces_and_moments(ns=[Nx_F, 0, Nxy_T], ms=[0, 0, 0])\n",
    "pressures_tsai_hill_w_temp_45 = lam_45_w_temp.failure_pressure_criteria(d=6, criteria=FailureCriteria.TsaiHill, p=300e3, verbose=True)\n",
    "print(pressures_tsai_hill_w_temp_45)"
   ],
   "id": "bd06383459032384",
   "outputs": [
    {
     "name": "stdout",
     "output_type": "stream",
     "text": [
      "Thermal loads: [231.022 213.363  -0.      0.      0.     -0.   ] kN/m\n",
      "{45: {'p': 300000.0, 'f_s': 2.00817}, -45: {'p': 300000.0, 'f_s': 2.28145}, 90: {'p': 300000.0, 'f_s': 2.10008}, 0: {'p': 300000.0, 'f_s': 2.16571}}\n"
     ]
    }
   ],
   "execution_count": 27
  },
  {
   "metadata": {},
   "cell_type": "code",
   "outputs": [],
   "execution_count": null,
   "source": "",
   "id": "2ebcdb6cc4b81f73"
  }
 ],
 "metadata": {
  "kernelspec": {
   "display_name": "Python 3",
   "language": "python",
   "name": "python3"
  },
  "language_info": {
   "codemirror_mode": {
    "name": "ipython",
    "version": 2
   },
   "file_extension": ".py",
   "mimetype": "text/x-python",
   "name": "python",
   "nbconvert_exporter": "python",
   "pygments_lexer": "ipython2",
   "version": "2.7.6"
  }
 },
 "nbformat": 4,
 "nbformat_minor": 5
}
