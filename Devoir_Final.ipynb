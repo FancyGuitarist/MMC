{
 "cells": [
  {
   "metadata": {},
   "cell_type": "markdown",
   "source": [
    "# Question 1\n",
    "Réservoir de lanceur cylindrique de 3m de diamètre, 8m de longueur et 0.123mm d'épaisseur.\n",
    "## Calcul de $N_x$ et $N_y$ induit par la pression $\\Delta p = 300$kPa"
   ],
   "id": "ccfbeb03f001ad69"
  },
  {
   "metadata": {
    "ExecuteTime": {
     "end_time": "2024-12-18T21:01:27.626545Z",
     "start_time": "2024-12-18T21:01:27.623429Z"
    }
   },
   "cell_type": "code",
   "source": [
    "import numpy as np\n",
    "delta_p = 300e3\n",
    "R = 3\n",
    "Nx_p = delta_p * R\n",
    "Ny_p = delta_p * R\n",
    "print(f'Nx_p = {Nx_p / 1e3:.2f} kN/m')\n",
    "print(f'Ny_p = {Ny_p / 1e3:.2f} kN/m')"
   ],
   "id": "edd33734701477b8",
   "outputs": [
    {
     "name": "stdout",
     "output_type": "stream",
     "text": [
      "Nx_p = 900.00 kN/m\n",
      "Ny_p = 900.00 kN/m\n"
     ]
    }
   ],
   "execution_count": 5
  },
  {
   "metadata": {},
   "cell_type": "markdown",
   "source": "## Calcul de $N_x$ causée par $F = 3600$kN",
   "id": "aff3d31d39caff4b"
  },
  {
   "metadata": {
    "ExecuteTime": {
     "end_time": "2024-12-18T21:00:52.712096Z",
     "start_time": "2024-12-18T21:00:52.708296Z"
    }
   },
   "cell_type": "code",
   "source": [
    "F = 3600e3\n",
    "Nx_F = F / (2*np.pi*R)\n",
    "print(f'Nx_F = {Nx_F / 1e3:.2f} kN/m')"
   ],
   "id": "7441225744cf40dd",
   "outputs": [
    {
     "name": "stdout",
     "output_type": "stream",
     "text": [
      "Nx_F = 381.97 kN/m\n"
     ]
    }
   ],
   "execution_count": 4
  },
  {
   "metadata": {},
   "cell_type": "markdown",
   "source": "Calcul de $N_{xy}$ causée par $T=1200$kN$\\cdot$m",
   "id": "eca80074f4720d96"
  },
  {
   "metadata": {
    "ExecuteTime": {
     "end_time": "2024-12-18T21:03:47.054011Z",
     "start_time": "2024-12-18T21:03:47.051567Z"
    }
   },
   "cell_type": "code",
   "source": [
    "T = 1200e3\n",
    "Nxy_T = T / (2*np.pi*R**2)\n",
    "print(f'Nxy_T = {Nxy_T / 1e3:.2f} kN/m')"
   ],
   "id": "3e1d88d816272fce",
   "outputs": [
    {
     "name": "stdout",
     "output_type": "stream",
     "text": [
      "Nxy_T = 21.22 kN/m\n"
     ]
    }
   ],
   "execution_count": 6
  },
  {
   "metadata": {},
   "cell_type": "code",
   "outputs": [],
   "execution_count": null,
   "source": "",
   "id": "6649f34e0a24b595"
  }
 ],
 "metadata": {
  "kernelspec": {
   "display_name": "Python 3",
   "language": "python",
   "name": "python3"
  },
  "language_info": {
   "codemirror_mode": {
    "name": "ipython",
    "version": 2
   },
   "file_extension": ".py",
   "mimetype": "text/x-python",
   "name": "python",
   "nbconvert_exporter": "python",
   "pygments_lexer": "ipython2",
   "version": "2.7.6"
  }
 },
 "nbformat": 4,
 "nbformat_minor": 5
}
