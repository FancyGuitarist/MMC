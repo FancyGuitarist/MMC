{
 "cells": [
  {
   "metadata": {},
   "cell_type": "markdown",
   "source": [
    "# Question 1\n",
    "Réservoir de lanceur cylindrique de 3m de diamètre, 8m de longueur et 0.123mm d'épaisseur.\n",
    "## Calcul de $N_x$ et $N_y$ induit par la pression $\\Delta p = 300$kPa"
   ],
   "id": "ccfbeb03f001ad69"
  },
  {
   "metadata": {
    "ExecuteTime": {
     "end_time": "2024-12-19T03:14:39.767647Z",
     "start_time": "2024-12-19T03:14:39.765032Z"
    }
   },
   "cell_type": "code",
   "source": [
    "import numpy as np\n",
    "delta_p = 300e3\n",
    "R = 3\n",
    "Nx_p = delta_p * R/2\n",
    "Ny_p = delta_p * R\n",
    "print(f'Nx_p = {Nx_p / 1e3:.2f} kN/m')\n",
    "print(f'Ny_p = {Ny_p / 1e3:.2f} kN/m')"
   ],
   "id": "edd33734701477b8",
   "outputs": [
    {
     "name": "stdout",
     "output_type": "stream",
     "text": [
      "Nx_p = 450.00 kN/m\n",
      "Ny_p = 900.00 kN/m\n"
     ]
    }
   ],
   "execution_count": 8
  },
  {
   "metadata": {},
   "cell_type": "markdown",
   "source": "## Calcul de $N_x$ causée par $F = 3600$kN",
   "id": "aff3d31d39caff4b"
  },
  {
   "metadata": {
    "ExecuteTime": {
     "end_time": "2024-12-19T03:14:39.771415Z",
     "start_time": "2024-12-19T03:14:39.769150Z"
    }
   },
   "cell_type": "code",
   "source": [
    "F = 3600e3\n",
    "Nx_F = F / (2*np.pi*R)\n",
    "print(f'Nx_F = {Nx_F / 1e3:.2f} kN/m')"
   ],
   "id": "7441225744cf40dd",
   "outputs": [
    {
     "name": "stdout",
     "output_type": "stream",
     "text": [
      "Nx_F = 190.99 kN/m\n"
     ]
    }
   ],
   "execution_count": 9
  },
  {
   "metadata": {},
   "cell_type": "markdown",
   "source": "## Calcul de $N_{xy}$ causée par $T=1200$kN$\\cdot$m",
   "id": "eca80074f4720d96"
  },
  {
   "metadata": {
    "ExecuteTime": {
     "end_time": "2024-12-19T03:14:39.783737Z",
     "start_time": "2024-12-19T03:14:39.781579Z"
    }
   },
   "cell_type": "code",
   "source": [
    "T = 1200e3\n",
    "Nxy_T = T / (np.pi*R**2)\n",
    "print(f'Nxy_T = {Nxy_T / 1e3:.2f} kN/m')"
   ],
   "id": "3e1d88d816272fce",
   "outputs": [
    {
     "name": "stdout",
     "output_type": "stream",
     "text": [
      "Nxy_T = 42.44 kN/m\n"
     ]
    }
   ],
   "execution_count": 10
  },
  {
   "metadata": {},
   "cell_type": "markdown",
   "source": "## Propositions de séquences de calculs",
   "id": "a8d67f75493c1d7f"
  },
  {
   "metadata": {
    "ExecuteTime": {
     "end_time": "2024-12-19T03:14:39.790060Z",
     "start_time": "2024-12-19T03:14:39.788397Z"
    }
   },
   "cell_type": "code",
   "source": [
    "from laminate import *\n",
    "from composite import *\n",
    "\n",
    "lam_45s = Laminate(thetas=LaminateAngles(\"[±45/90/0]S\"), h=0.123, composite_type=CompositeType.IM7_977_2)\n"
   ],
   "id": "6649f34e0a24b595",
   "outputs": [],
   "execution_count": 10
  }
 ],
 "metadata": {
  "kernelspec": {
   "display_name": "Python 3",
   "language": "python",
   "name": "python3"
  },
  "language_info": {
   "codemirror_mode": {
    "name": "ipython",
    "version": 2
   },
   "file_extension": ".py",
   "mimetype": "text/x-python",
   "name": "python",
   "nbconvert_exporter": "python",
   "pygments_lexer": "ipython2",
   "version": "2.7.6"
  }
 },
 "nbformat": 4,
 "nbformat_minor": 5
}
