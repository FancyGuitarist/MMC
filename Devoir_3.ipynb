{
 "cells": [
  {
   "metadata": {},
   "cell_type": "markdown",
   "source": [
    "# Question 1\n",
    "Soit une plaque carrée stratifiée en graphite-époxyde $[±30]_T$ de 20 cm de côté. Cette plaque est chauffée\n",
    "à $175\\degree C$ pendant sa fabrication et est refroidie à température ambiante ($25\\degree C$)."
   ],
   "id": "143986867bd76240"
  },
  {
   "metadata": {},
   "cell_type": "markdown",
   "source": "## a) Calculez les déformations et les courbures ($\\epsilon_x^0$, ..., $\\kappa_{xy}^0$) induites par le chargement thermique",
   "id": "86fa505ff0fa9b9"
  },
  {
   "metadata": {},
   "cell_type": "code",
   "outputs": [],
   "execution_count": null,
   "source": "",
   "id": "91b46967b183d59a"
  },
  {
   "metadata": {},
   "cell_type": "markdown",
   "source": "## b) Calculez les contraintes résiduelles dans le repère (x, y) et le repère (1, 2)",
   "id": "823ac5dbe410f774"
  },
  {
   "metadata": {},
   "cell_type": "code",
   "outputs": [],
   "execution_count": null,
   "source": "",
   "id": "2c2729e4df8370ae"
  },
  {
   "metadata": {},
   "cell_type": "markdown",
   "source": "## c) Calculez la déformée $w^0(x, y)$ et faites un croquis en indiquant les axes $(x, y, z)$. Quel est le déplacement hors du plan maximum?",
   "id": "e8626a76ca96435f"
  },
  {
   "metadata": {},
   "cell_type": "code",
   "outputs": [],
   "execution_count": null,
   "source": "",
   "id": "57ab9cf851bf8386"
  },
  {
   "metadata": {},
   "cell_type": "markdown",
   "source": [
    "# Question 2\n",
    "La partie cylindrique du submersible le Titan a une longueur de 2.54 m et un diamètre externe D égal à 1.7 m. Le stratifié est composé de couches de composite graphite/époxy alternées à 0 et 90 degrés pour former une paroi de 5 pouces (127 mm) d’épaisseur (prendre les propriétés données en cours et supposer que l’épaisseur d’une couche est 0.150 mm). On supposera que la séquence de plis est $[90_{141}/0_{141}/90_{141}]_S$ avec les plis à 0 degré alignés avec le sens de la longueur du cylindre et les plis à 90 degrés alignés dans\n",
    "la direction circonférentielle. La pression en service est de 46 MPa. La température de fabrication est T = $177\\degree C$ et celle en service est de $4\\degree C$. "
   ],
   "id": "b3f57b09ba83d213"
  },
  {
   "metadata": {},
   "cell_type": "markdown",
   "source": "## a) Calculez quelle pression causera la rupture de la première couche avec le critère de la contrainte maximale. Précisez dans quelles couches la rupture se produit et identifiez le mode de rupture. En déduire le facteur de sécurité par rapport à la rupture.",
   "id": "4a9e0304a448214f"
  },
  {
   "metadata": {},
   "cell_type": "code",
   "outputs": [],
   "execution_count": null,
   "source": "",
   "id": "d466e47ba60d03b9"
  },
  {
   "metadata": {},
   "cell_type": "markdown",
   "source": "## b)  Calculez quelle pression causera la rupture de la première couche avec le critère de Tsai-Wu. Précisez dans quelles couches la rupture se produit et commentez sur le mode de rupture. En déduire le facteur de sécurité par rapport à la rupture.",
   "id": "b6d11a7f2066cfce"
  },
  {
   "metadata": {},
   "cell_type": "code",
   "outputs": [],
   "execution_count": null,
   "source": "",
   "id": "eb2237b9d1c9869b"
  },
  {
   "metadata": {},
   "cell_type": "markdown",
   "source": "## c) Comparer les résultats obtenus et commenter ",
   "id": "62598675dcf0f44d"
  },
  {
   "metadata": {},
   "cell_type": "code",
   "outputs": [],
   "execution_count": null,
   "source": "",
   "id": "fb14bd5b6e74131b"
  }
 ],
 "metadata": {
  "kernelspec": {
   "display_name": "Python 3",
   "language": "python",
   "name": "python3"
  },
  "language_info": {
   "codemirror_mode": {
    "name": "ipython",
    "version": 2
   },
   "file_extension": ".py",
   "mimetype": "text/x-python",
   "name": "python",
   "nbconvert_exporter": "python",
   "pygments_lexer": "ipython2",
   "version": "2.7.6"
  }
 },
 "nbformat": 4,
 "nbformat_minor": 5
}
