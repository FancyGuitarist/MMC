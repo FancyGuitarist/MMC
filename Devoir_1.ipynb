{
 "cells": [
  {
   "cell_type": "markdown",
   "id": "3b09f53dee3f0d30",
   "metadata": {},
   "source": [
    "# Question 1"
   ]
  },
  {
   "cell_type": "markdown",
   "id": "926bd6add3e16826",
   "metadata": {},
   "source": [
    "## a)"
   ]
  },
  {
   "cell_type": "code",
   "execution_count": 1,
   "id": "initial_id",
   "metadata": {
    "ExecuteTime": {
     "end_time": "2024-10-14T17:41:27.821956Z",
     "start_time": "2024-10-14T17:41:27.760520Z"
    }
   },
   "outputs": [
    {
     "name": "stdout",
     "output_type": "stream",
     "text": [
      "Matrice de rigidité 3x3 (GPA)=\n",
      "[[51.00026119  3.93803617  0.        ]\n",
      " [ 3.93803617 15.5040794   0.        ]\n",
      " [ 0.          0.          4.7       ]]\n",
      "Matrice de souplesse 3x3 (TPa^-1)=\n",
      "[[ 20.          -5.08         0.        ]\n",
      " [ -5.08        65.78947368   0.        ]\n",
      " [  0.           0.         212.76595745]]\n"
     ]
    }
   ],
   "source": [
    "from composite import Composite, CompositeType\n",
    "import numpy as np\n",
    "\n",
    "print(\"Matrice de rigidité 3x3 (GPA)=\")\n",
    "print(CompositeType.Glass_Epoxy.q_3x3_matrix / 10 ** 9)\n",
    "print(\"Matrice de souplesse 3x3 (TPa^-1)=\")\n",
    "print(CompositeType.Glass_Epoxy.s_3x3_matrix / 10 ** -12)"
   ]
  },
  {
   "cell_type": "markdown",
   "id": "64dbeefabe1364b8",
   "metadata": {},
   "source": []
  },
  {
   "cell_type": "markdown",
   "id": "860c7e8d94da8958",
   "metadata": {},
   "source": [
    "## b)"
   ]
  },
  {
   "cell_type": "code",
   "execution_count": 2,
   "id": "686cc9df6f8e37d",
   "metadata": {},
   "outputs": [
    {
     "name": "stdout",
     "output_type": "stream",
     "text": [
      "Déformations= {epsilon_x: 824.700000000000, epsilon_y: 2303.79473684211, gamma_xy: -1063.82978723404}\n",
      "epsilon_3= -0.000383178947368421\n"
     ]
    }
   ],
   "source": [
    "composite = Composite(angle=0, composite_type=CompositeType.Glass_Epoxy, delta_t=75)\n",
    "\n",
    "print(\"Déformations=\", composite.solve_strains_and_stresses(strains=(None, None, None), stresses=(20, 10, -5)))\n",
    "print(\"epsilon_3=\", composite.epsilon_3(stresses=(20, 10, -5)))"
   ]
  },
  {
   "cell_type": "markdown",
   "id": "a9b2660675d15118",
   "metadata": {},
   "source": [
    "# Question 2"
   ]
  },
  {
   "cell_type": "markdown",
   "id": "6176fb0b2b689d93",
   "metadata": {},
   "source": [
    "## a)"
   ]
  },
  {
   "cell_type": "code",
   "execution_count": 3,
   "id": "77ae2224b8b5ca9e",
   "metadata": {},
   "outputs": [
    {
     "name": "stdout",
     "output_type": "stream",
     "text": [
      "Contraintes radiales: {'sigma_a': 18.75, 'sigma_h': 37.5}\n"
     ]
    }
   ],
   "source": [
    "radial_composite = Composite(angle=53, composite_type=CompositeType.Graphite_Epoxy, delta_t=-150, delta_m=1)\n",
    "radial_stresses = radial_composite.solve_radial_stresses(pressure=1.2, diameter=0.5, thickness=8)\n",
    "print(f\"Contraintes radiales: {radial_stresses}\")"
   ]
  },
  {
   "cell_type": "markdown",
   "id": "c851f63eb8de256d",
   "metadata": {},
   "source": [
    "## b)"
   ]
  },
  {
   "cell_type": "code",
   "execution_count": 4,
   "id": "4c400695c36a862",
   "metadata": {},
   "outputs": [
    {
     "name": "stdout",
     "output_type": "stream",
     "text": [
      "Coefficients hydriques globaux: [ 3095.27356665  1820.72643335 -4444.87408202  4770.        ]\n",
      "Coefficients thermiques globaux:[ 15.49247461   8.78952539 -23.37596192  24.3       ]\n"
     ]
    }
   ],
   "source": [
    "print(f\"Coefficients hydriques globaux: {np.array(radial_composite.global_hygroscopic_coeffs) / 10 ** -6}\")\n",
    "print(f\"Coefficients thermiques globaux:{np.array(radial_composite.global_thermal_coeffs) / 10 ** -6}\")"
   ]
  },
  {
   "cell_type": "markdown",
   "id": "8bf477b5098ce4cc",
   "metadata": {},
   "source": [
    "## c)"
   ]
  },
  {
   "cell_type": "code",
   "execution_count": 5,
   "id": "168ae280810492d1",
   "metadata": {},
   "outputs": [
    {
     "name": "stdout",
     "output_type": "stream",
     "text": [
      "Matrice Sbar (TPa^-1)=\n",
      "[[ 86.22932093 -32.78037981 -18.73905343]\n",
      " [-32.78037981  65.22767969 -54.50237358]\n",
      " [-18.73905343 -54.50237358 102.55120803]]\n",
      "Matrice Qbar (GPA)=\n",
      "[[30.83524587 36.34381052 24.94994751]\n",
      " [36.34381052 70.41385199 44.06355381]\n",
      " [24.94994751 44.06355381 37.72853333]]\n"
     ]
    }
   ],
   "source": [
    "print(\"Matrice Sbar (TPa^-1)=\")\n",
    "print(radial_composite.global_s_matrix / 10 ** -12)\n",
    "print(\"Matrice Qbar (GPA)=\")\n",
    "print(radial_composite.global_q_matrix / 10 ** 9)"
   ]
  },
  {
   "cell_type": "markdown",
   "id": "54fc7bc478ba3dca",
   "metadata": {},
   "source": [
    "## d)"
   ]
  },
  {
   "cell_type": "code",
   "execution_count": 6,
   "id": "63fa6dc55d96ac3e",
   "metadata": {},
   "outputs": [
    {
     "name": "stdout",
     "output_type": "stream",
     "text": [
      "Déformations globales:\n",
      "{epsilon_x: 1158.93789983545, epsilon_y: 2333.70349172889, gamma_xy: -3333.67605465999}\n",
      "Déformations mécaniques globales:\n",
      "[387535524.593382 1831405866.97096 -2395196260.91541]\n"
     ]
    }
   ],
   "source": [
    "from sympy import symbols\n",
    "epsilon_x, epsilon_y, gamma_xy = symbols('epsilon_x epsilon_y gamma_xy')\n",
    "\n",
    "global_strains = radial_composite.solve_strains_and_stresses(strains=(None, None, None), stresses=(radial_stresses['sigma_a'], radial_stresses['sigma_h'], 0))\n",
    "global_mechanical_strains = radial_composite.mechanical_strains(values=(global_strains[epsilon_x], global_strains[epsilon_y], global_strains[gamma_xy]))\n",
    "global_mechanical_strains = global_mechanical_strains / 10 ** -6\n",
    "print(\"Déformations globales:\")\n",
    "print(global_strains)\n",
    "print(\"Déformations mécaniques globales:\")\n",
    "print(global_mechanical_strains / 10 ** -6)"
   ]
  },
  {
   "cell_type": "markdown",
   "id": "c0fec4130a395590",
   "metadata": {},
   "source": [
    "## e)"
   ]
  },
  {
   "cell_type": "code",
   "execution_count": 7,
   "id": "c488e452504352c9",
   "metadata": {},
   "outputs": [
    {
     "name": "stdout",
     "output_type": "stream",
     "text": [
      "Déformations locales:\n",
      "[305.957787503607 3186.68360406073 2048.14281805040]\n",
      "Déformations mécaniques locales:\n",
      "[157.257787503607 2061.68360406073 2048.14281805040]\n"
     ]
    }
   ],
   "source": [
    "print(\"Déformations locales:\")\n",
    "print(radial_composite.global_to_local_strains((global_strains[epsilon_x], global_strains[epsilon_y], global_strains[gamma_xy])))\n",
    "print(\"Déformations mécaniques locales:\")\n",
    "print(radial_composite.global_to_local_strains((global_mechanical_strains[0], global_mechanical_strains[1], global_mechanical_strains[2])))"
   ]
  },
  {
   "cell_type": "markdown",
   "id": "6b22c217771fd9e4",
   "metadata": {},
   "source": [
    "## f)"
   ]
  },
  {
   "cell_type": "code",
   "execution_count": 8,
   "id": "f0d3f6f243a3be21",
   "metadata": {},
   "outputs": [
    {
     "name": "stdout",
     "output_type": "stream",
     "text": [
      "epsilon_z:\n",
      "109.11072036846707\n"
     ]
    }
   ],
   "source": [
    "print(\"epsilon_z:\")\n",
    "print(radial_composite.epsilon_z(stresses=(radial_stresses['sigma_a'], radial_stresses['sigma_h'], 0)) / 10 ** -6)"
   ]
  },
  {
   "cell_type": "markdown",
   "id": "1ef0c75db95a34b0",
   "metadata": {},
   "source": [
    "## g)"
   ]
  },
  {
   "cell_type": "code",
   "execution_count": 9,
   "id": "d1c5ceaa384d0c93",
   "metadata": {},
   "outputs": [
    {
     "name": "stdout",
     "output_type": "stream",
     "text": [
      "Contraintes locales (MPa):\n",
      "30.709100210784367 25.54089978921563 9.011828399421738\n"
     ]
    }
   ],
   "source": [
    "print(\"Contraintes locales (MPa):\")\n",
    "sigma_1, sigma_2, tau_12 = radial_composite.global_to_local_stresses((radial_stresses['sigma_a'], radial_stresses['sigma_h'], 0))\n",
    "print(sigma_1, sigma_2, tau_12)"
   ]
  },
  {
   "cell_type": "markdown",
   "id": "4de5c09837751b04",
   "metadata": {},
   "source": [
    "## h)"
   ]
  },
  {
   "cell_type": "code",
   "execution_count": 10,
   "id": "6f81fa9f037d754e",
   "metadata": {
    "ExecuteTime": {
     "end_time": "2024-10-14T17:41:55.609044Z",
     "start_time": "2024-10-14T17:41:55.593970Z"
    }
   },
   "outputs": [
    {
     "name": "stdout",
     "output_type": "stream",
     "text": [
      "Facteur de sécurité maximal: 1.957644421795663\n",
      "Facteur de sécurité Tsai-Hill: [-1.92762021151398, 1.92762021151398]\n",
      "Facteur de sécurité Tsai-Wu: [-7.51603697075040, 1.95286643554009]\n"
     ]
    }
   ],
   "source": [
    "fs_max = radial_composite.fs_max((sigma_1, sigma_2, tau_12))\n",
    "print(\"Facteur de sécurité maximal:\", fs_max)\n",
    "fs_tsai_hill = radial_composite.fs_tsai_hill((sigma_1, sigma_2, tau_12))\n",
    "print(\"Facteur de sécurité Tsai-Hill:\", fs_tsai_hill)\n",
    "fs_tsai_wu = radial_composite.fs_tsai_wu((sigma_1, sigma_2, tau_12))\n",
    "print(\"Facteur de sécurité Tsai-Wu:\", fs_tsai_wu)"
   ]
  },
  {
   "cell_type": "code",
   "execution_count": null,
   "id": "76209f0d54feddba",
   "metadata": {
    "ExecuteTime": {
     "end_time": "2024-10-14T17:41:56.163291Z",
     "start_time": "2024-10-14T17:41:56.161694Z"
    }
   },
   "outputs": [],
   "source": []
  },
  {
   "cell_type": "code",
   "execution_count": null,
   "id": "db96966b54f29238",
   "metadata": {},
   "outputs": [],
   "source": []
  }
 ],
 "metadata": {
  "kernelspec": {
   "display_name": "Python 3 (ipykernel)",
   "language": "python",
   "name": "python3"
  },
  "language_info": {
   "codemirror_mode": {
    "name": "ipython",
    "version": 3
   },
   "file_extension": ".py",
   "mimetype": "text/x-python",
   "name": "python",
   "nbconvert_exporter": "python",
   "pygments_lexer": "ipython3",
   "version": "3.12.3"
  }
 },
 "nbformat": 4,
 "nbformat_minor": 5
}
