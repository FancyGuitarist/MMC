{
 "cells": [
  {
   "metadata": {},
   "cell_type": "markdown",
   "source": "# Question 1",
   "id": "3b09f53dee3f0d30"
  },
  {
   "metadata": {},
   "cell_type": "markdown",
   "source": "## a)",
   "id": "926bd6add3e16826"
  },
  {
   "cell_type": "code",
   "id": "initial_id",
   "metadata": {
    "collapsed": true,
    "ExecuteTime": {
     "end_time": "2024-10-05T22:29:31.011071Z",
     "start_time": "2024-10-05T22:29:31.004730Z"
    }
   },
   "source": [
    "from composite import Composite, CompositeType\n",
    "import numpy as np\n",
    "\n",
    "print(\"Matrice de rigidité 3x3 (GPA)=\")\n",
    "print(CompositeType.Glass_Epoxy.q_3x3_matrix / 10 ** 9)\n",
    "print(\"Matrice de souplesse 3x3 (TPa^-1)=\")\n",
    "print(CompositeType.Glass_Epoxy.s_3x3_matrix / 10 ** -12)"
   ],
   "outputs": [
    {
     "name": "stdout",
     "output_type": "stream",
     "text": [
      "Matrice de rigidité 3x3 (GPA)=\n",
      "[[51.00026119  3.93803617  0.        ]\n",
      " [ 3.93803617 15.5040794   0.        ]\n",
      " [ 0.          0.          4.7       ]]\n",
      "Matrice de souplesse 3x3 (TPa^-1)=\n",
      "[[ 20.          -5.08         0.        ]\n",
      " [ -5.08        65.78947368   0.        ]\n",
      " [  0.           0.         212.76595745]]\n"
     ]
    }
   ],
   "execution_count": 27
  },
  {
   "metadata": {},
   "cell_type": "markdown",
   "source": "",
   "id": "64dbeefabe1364b8"
  },
  {
   "metadata": {},
   "cell_type": "markdown",
   "source": "## b)",
   "id": "860c7e8d94da8958"
  },
  {
   "metadata": {
    "ExecuteTime": {
     "end_time": "2024-10-05T22:29:31.074383Z",
     "start_time": "2024-10-05T22:29:31.030514Z"
    }
   },
   "cell_type": "code",
   "source": [
    "composite = Composite(angle=0, composite_type=CompositeType.Glass_Epoxy, delta_t=75)\n",
    "\n",
    "print(\"Déformations=\", composite.solve(strains=(None, None, None), stresses=(20, 10, -5)))\n",
    "print(\"epsilon_3=\", composite.epsilon_3(stresses=(20, 10, -5)))"
   ],
   "id": "686cc9df6f8e37d",
   "outputs": [
    {
     "name": "stdout",
     "output_type": "stream",
     "text": [
      "Déformations= {epsilon_x: 824.700000000000, epsilon_y: 2303.79473684211, gamma_xy: -1063.82978723404}\n",
      "epsilon_3= -0.000383178947368421\n"
     ]
    }
   ],
   "execution_count": 28
  },
  {
   "metadata": {},
   "cell_type": "markdown",
   "source": "# Question 2",
   "id": "a9b2660675d15118"
  },
  {
   "metadata": {},
   "cell_type": "markdown",
   "source": "## a)",
   "id": "6176fb0b2b689d93"
  },
  {
   "metadata": {},
   "cell_type": "code",
   "source": [
    "radial_composite = Composite(angle=53, composite_type=CompositeType.Graphite_Epoxy, delta_t=-150, delta_m=1)\n",
    "radial_stresses = radial_composite.solve_radial_stresses(pressure=1.2, diameter=0.5, thickness=8)\n",
    "print(f\"Contraintes radiales: {radial_stresses}\")"
   ],
   "id": "77ae2224b8b5ca9e",
   "outputs": [
    {
     "name": "stdout",
     "output_type": "stream",
     "text": [
      "Contraintes radiales: {'sigma_a': 18.75, 'sigma_h': 37.5}\n"
     ]
    }
   ],
   "execution_count": 29
  },
  {
   "metadata": {},
   "cell_type": "markdown",
   "source": "## b)",
   "id": "c851f63eb8de256d"
  },
  {
   "metadata": {
    "ExecuteTime": {
     "end_time": "2024-10-05T22:29:31.084143Z",
     "start_time": "2024-10-05T22:29:31.082033Z"
    }
   },
   "cell_type": "code",
   "source": [
    "print(f\"Coefficients hydriques globaux: {np.array(radial_composite.global_hygroscopic_coeffs) / 10 ** -6}\")\n",
    "print(f\"Coefficients thermiques globaux:{np.array(radial_composite.global_thermal_coeffs) / 10 ** -6}\")"
   ],
   "id": "4c400695c36a862",
   "outputs": [
    {
     "name": "stdout",
     "output_type": "stream",
     "text": [
      "Coefficients hydriques globaux: [ 3095.27356665  1820.72643335 -4444.87408202  4770.        ]\n",
      "Coefficients thermiques globaux:[ 15.49247461   8.78952539 -23.37596192  24.3       ]\n"
     ]
    }
   ],
   "execution_count": 30
  },
  {
   "metadata": {},
   "cell_type": "markdown",
   "source": "## c)",
   "id": "8bf477b5098ce4cc"
  },
  {
   "metadata": {
    "ExecuteTime": {
     "end_time": "2024-10-05T22:29:31.090686Z",
     "start_time": "2024-10-05T22:29:31.085999Z"
    }
   },
   "cell_type": "code",
   "source": [
    "print(\"Matrice Sbar (TPa^-1)=\")\n",
    "print(radial_composite.global_s_matrix / 10 ** -12)\n",
    "print(\"Matrice Qbar (GPA)=\")\n",
    "print(radial_composite.global_q_matrix / 10 ** 9)"
   ],
   "id": "168ae280810492d1",
   "outputs": [
    {
     "name": "stdout",
     "output_type": "stream",
     "text": [
      "Matrice Sbar (TPa^-1)=\n",
      "[[ 86.22932093 -32.78037981 -18.73905343]\n",
      " [-32.78037981  65.22767969 -54.50237358]\n",
      " [-18.73905343 -54.50237358 102.55120803]]\n",
      "Matrice Qbar (GPA)=\n",
      "[[30.83524587 36.34381052 24.94994751]\n",
      " [36.34381052 70.41385199 44.06355381]\n",
      " [24.94994751 44.06355381 37.72853333]]\n"
     ]
    }
   ],
   "execution_count": 31
  },
  {
   "metadata": {},
   "cell_type": "markdown",
   "source": "## d)",
   "id": "54fc7bc478ba3dca"
  },
  {
   "metadata": {
    "ExecuteTime": {
     "end_time": "2024-10-05T22:29:31.128477Z",
     "start_time": "2024-10-05T22:29:31.091378Z"
    }
   },
   "cell_type": "code",
   "source": [
    "from sympy import symbols\n",
    "epsilon_x, epsilon_y, gamma_xy = symbols('epsilon_x epsilon_y gamma_xy')\n",
    "\n",
    "global_strains = radial_composite.solve(strains=(None, None, None), stresses=(radial_stresses['sigma_a'], radial_stresses['sigma_h'], 0))\n",
    "global_mechanical_strains = radial_composite.mechanical_strains(values=(global_strains[epsilon_x], global_strains[epsilon_y], global_strains[gamma_xy]))\n",
    "global_mechanical_strains = global_mechanical_strains / 10 ** -6\n",
    "print(\"Déformations globales:\")\n",
    "print(global_strains)\n",
    "print(\"Déformations mécaniques globales:\")\n",
    "print(global_mechanical_strains / 10 ** -6)"
   ],
   "id": "63fa6dc55d96ac3e",
   "outputs": [
    {
     "name": "stdout",
     "output_type": "stream",
     "text": [
      "Déformations globales:\n",
      "{epsilon_x: 1158.93789983545, epsilon_y: 2333.70349172889, gamma_xy: -3333.67605465999}\n",
      "Déformations mécaniques globales:\n",
      "[387535524.593382 1831405866.97096 -2395196260.91541]\n"
     ]
    }
   ],
   "execution_count": 32
  },
  {
   "metadata": {},
   "cell_type": "markdown",
   "source": "## e)",
   "id": "c0fec4130a395590"
  },
  {
   "metadata": {
    "ExecuteTime": {
     "end_time": "2024-10-05T22:29:31.131780Z",
     "start_time": "2024-10-05T22:29:31.129207Z"
    }
   },
   "cell_type": "code",
   "source": [
    "print(\"Déformations locales:\")\n",
    "print(radial_composite.global_to_local_strains((global_strains[epsilon_x], global_strains[epsilon_y], global_strains[gamma_xy])))\n",
    "print(\"Déformations mécaniques locales:\")\n",
    "print(radial_composite.global_to_local_strains((global_mechanical_strains[0], global_mechanical_strains[1], global_mechanical_strains[2])))"
   ],
   "id": "c488e452504352c9",
   "outputs": [
    {
     "name": "stdout",
     "output_type": "stream",
     "text": [
      "Déformations locales:\n",
      "[305.957787503607 3186.68360406073 2048.14281805040]\n",
      "Déformations mécaniques locales:\n",
      "[157.257787503607 2061.68360406073 2048.14281805040]\n"
     ]
    }
   ],
   "execution_count": 33
  },
  {
   "metadata": {},
   "cell_type": "markdown",
   "source": "## f)",
   "id": "6b22c217771fd9e4"
  },
  {
   "metadata": {
    "ExecuteTime": {
     "end_time": "2024-10-05T22:29:31.134120Z",
     "start_time": "2024-10-05T22:29:31.132357Z"
    }
   },
   "cell_type": "code",
   "source": [
    "print(\"epsilon_z:\")\n",
    "print(radial_composite.epsilon_z(stresses=(radial_stresses['sigma_a'], radial_stresses['sigma_h'], 0)) / 10 ** -6)"
   ],
   "id": "f0d3f6f243a3be21",
   "outputs": [
    {
     "name": "stdout",
     "output_type": "stream",
     "text": [
      "epsilon_z:\n",
      "109.11072036846707\n"
     ]
    }
   ],
   "execution_count": 34
  },
  {
   "metadata": {},
   "cell_type": "markdown",
   "source": "## g)",
   "id": "1ef0c75db95a34b0"
  },
  {
   "metadata": {
    "ExecuteTime": {
     "end_time": "2024-10-05T22:29:31.136803Z",
     "start_time": "2024-10-05T22:29:31.134787Z"
    }
   },
   "cell_type": "code",
   "source": [
    "print(\"Contraintes locales (MPa):\")\n",
    "sigma_1, sigma_2, tau_12 = radial_composite.global_to_local_stresses((radial_stresses['sigma_a'], radial_stresses['sigma_h'], 0))\n",
    "print(sigma_1, sigma_2, tau_12)"
   ],
   "id": "d1c5ceaa384d0c93",
   "outputs": [
    {
     "name": "stdout",
     "output_type": "stream",
     "text": [
      "Contraintes locales (MPa):\n",
      "30.709100210784367 25.54089978921563 9.011828399421738\n"
     ]
    }
   ],
   "execution_count": 35
  },
  {
   "metadata": {},
   "cell_type": "markdown",
   "source": "## h)",
   "id": "4de5c09837751b04"
  },
  {
   "metadata": {
    "ExecuteTime": {
     "end_time": "2024-10-05T22:29:31.202789Z",
     "start_time": "2024-10-05T22:29:31.137509Z"
    }
   },
   "cell_type": "code",
   "source": [
    "fs_max = radial_composite.fs_max((sigma_1, sigma_2, tau_12))\n",
    "print(\"Facteur de sécurité maximal:\", fs_max)\n",
    "fs_tsai_hill = radial_composite.tsai_hill((sigma_1, sigma_2, tau_12))\n",
    "print(\"Facteur de sécurité Tsai-Hill:\", fs_tsai_hill)\n",
    "fs_tsai_wu = radial_composite.tsai_wu_safe((sigma_1, sigma_2, tau_12))\n",
    "print(\"Facteur de sécurité Tsai-Wu satisfait:\", fs_tsai_wu)"
   ],
   "id": "6f81fa9f037d754e",
   "outputs": [
    {
     "name": "stdout",
     "output_type": "stream",
     "text": [
      "Facteur de sécurité maximal: [-1.92762021151398, 1.92762021151398]\n",
      "Facteur de sécurité Tsai-Hill: [-7.51603697075040, 1.95286643554009]\n",
      "Facteur de sécurité Tsai-Wu satisfait: True\n"
     ]
    }
   ],
   "execution_count": 36
  }
 ],
 "metadata": {
  "kernelspec": {
   "display_name": "Python 3",
   "language": "python",
   "name": "python3"
  },
  "language_info": {
   "codemirror_mode": {
    "name": "ipython",
    "version": 2
   },
   "file_extension": ".py",
   "mimetype": "text/x-python",
   "name": "python",
   "nbconvert_exporter": "python",
   "pygments_lexer": "ipython2",
   "version": "2.7.6"
  }
 },
 "nbformat": 4,
 "nbformat_minor": 5
}
