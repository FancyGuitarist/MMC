{
 "cells": [
  {
   "metadata": {},
   "cell_type": "markdown",
   "source": "# Essais en traction",
   "id": "b18d873964751649"
  },
  {
   "metadata": {
    "ExecuteTime": {
     "end_time": "2024-12-05T03:17:09.947812Z",
     "start_time": "2024-12-05T03:17:08.765416Z"
    }
   },
   "cell_type": "code",
   "source": [
    "from laminate import *\n",
    "from composite import *\n",
    "\n",
    "lam = Laminate(thetas=LaminateAngles(\"[±45]\"), composite_type=CompositeType.Lab_Composite, h=0.697)\n",
    "epsilons_surf_1 = {'epsilon_a': [2, 33, 71, 115, 170, 225, 280], 'epsilon_b': [33, 146, 270, 391, 515, 640, 761], 'epsilon_c': [28, 126, 230, 325, 420, 510, 585]}\n",
    "epsilons_surf_2 = {'epsilon_a': [119, 315, 470, 620, 760, 895, 1020], 'epsilon_b': [171, 492, 770, 1025, 1275, 1525, 1780], 'epsilon_c': [7, 15, 15, 15, 15, 15, 15, 20]}\n",
    "strain_gauges = lam.triple_gauge_global_strains(epsilons_surf_2, thetas=[45, 0, -45], width=30, length=342)\n",
    "print(strain_gauges)"
   ],
   "id": "c5aa1fa21f1a11d9",
   "outputs": [
    {
     "name": "stdout",
     "output_type": "stream",
     "text": [
      "{0: {epsilon_x: 105.1876, epsilon_y: -0.8295, gamma_xy: 65.8124}, 1: {epsilon_x: 315.7168, epsilon_y: -20.3466, gamma_xy: 176.2832}, 2: {epsilon_x: 502.6371, epsilon_y: -50.6341, gamma_xy: 267.3629}, 3: {epsilon_x: 669.4955, epsilon_y: -74.5963, gamma_xy: 355.5045}, 4: {epsilon_x: 837.2300, epsilon_y: -101.5347, gamma_xy: 437.7700}, 5: {epsilon_x: 1007.9026, epsilon_y: -130.9141, gamma_xy: 517.0974}, 6: {epsilon_x: 1189.4513, epsilon_y: -167.0813, gamma_xy: 590.5487}}\n"
     ]
    }
   ],
   "execution_count": 1
  },
  {
   "metadata": {},
   "cell_type": "markdown",
   "source": [
    "Pour déterminer l'expression de la courbure $\\kappa_{xy}^0$ en fonction des déformations $\\epsilon_x$, $\\epsilon_y$ et $\\gamma_{xy}$, nous pouvons utiliser les relations déformation-courbure présentées dans le document.\n",
    "\n",
    "D'après les équations de déformation dans le stratifié, nous avons :\n",
    "\n",
    "$$ \\gamma_{xy}(x, y, z) = \\gamma_{xy}^0(x, y) + z \\kappa_{xy}^0(x, y) $$\n",
    "\n",
    "En isolant $\\kappa_{xy}^0$, nous obtenons :\n",
    "\n",
    "$$ \\kappa_{xy}^0 = \\frac{\\gamma_{xy}(x, y, z) - \\gamma_{xy}^0(x, y)}{z} $$\n",
    "\n",
    "Cependant, pour un stratifié, les déformations $\\epsilon_x$, $\\epsilon_y$ et $\\gamma_{xy}$ sont souvent données à la surface de référence (plan moyen), ce qui simplifie l'expression. En utilisant les relations de déformation-déplacement et en considérant les petites rotations, nous avons :\n",
    "\n",
    "$$ \\gamma_{xy} = \\frac{\\partial u}{\\partial y} + \\frac{\\partial v}{\\partial x} $$\n",
    "\n",
    "En utilisant l'hypothèse de Kirchhoff, les déformations dans le plan moyen sont :\n",
    "\n",
    "$$ \\gamma_{xy}^0 = \\frac{\\partial u^0}{\\partial y} + \\frac{\\partial v^0}{\\partial x} $$\n",
    "\n",
    "Ainsi, la courbure de torsion $\\kappa_{xy}^0$ peut être exprimée en fonction des déformations comme suit :\n",
    "\n",
    "$$ \\kappa_{xy}^0 = \\frac{\\partial^2 w^0}{\\partial x \\partial y} $$\n",
    "\n",
    "En résumé, la courbure $\\kappa_{xy}^0$ est liée aux déformations de cisaillement $\\gamma_{xy}$ et peut être déterminée en utilisant les dérivées secondes des déplacements dans le plan moyen."
   ],
   "id": "a2db2698c4cb506e"
  },
  {
   "metadata": {},
   "cell_type": "markdown",
   "source": [
    "Pour déterminer le coefficient $b_{16}$, nous devons nous référer aux équations de la théorie classique des stratifiés et à la matrice de rigidité réduite. Le coefficient $b_{16}$ fait partie de la matrice de couplage $[B]$ qui relie les moments de flexion aux déformations dans un stratifié.\n",
    "\n",
    "La matrice de couplage $[B]$ est définie par :\n",
    "\n",
    "$$\n",
    "[B] = \\int_{-h/2}^{h/2} [Q] z \\, dz\n",
    "$$\n",
    "\n",
    "où $[Q]$ est la matrice de rigidité réduite du stratifié, et $z$ est la coordonnée à travers l'épaisseur du stratifié.\n",
    "\n",
    "Pour un stratifié symétrique, les coefficients de la matrice de couplage $[B]$ sont généralement nuls. Cependant, pour un stratifié asymétrique, ces coefficients peuvent être non nuls.\n",
    "\n",
    "La matrice de rigidité réduite $[Q]$ est donnée par :\n",
    "\n",
    "$$\n",
    "[Q] = \\begin{bmatrix}\n",
    "Q_{11} & Q_{12} & Q_{16} \\\\\n",
    "Q_{12} & Q_{22} & Q_{26} \\\\\n",
    "Q_{16} & Q_{26} & Q_{66}\n",
    "\\end{bmatrix}\n",
    "$$\n",
    "\n",
    "Le coefficient $b_{16}$ est donc calculé comme suit :\n",
    "\n",
    "$$\n",
    "b_{16} = \\int_{-h/2}^{h/2} Q_{16} z \\, dz\n",
    "$$\n",
    "\n",
    "Pour un stratifié composé de plusieurs plis, nous devons sommer les contributions de chaque pli. Supposons que le stratifié soit composé de $N$ plis, chacun ayant une épaisseur $h_k$ et une coordonnée $z_k$ au centre du pli. Le coefficient $b_{16}$ est alors :\n",
    "\n",
    "$$\n",
    "b_{16} = \\sum_{k=1}^{N} Q_{16}^{(k)} \\int_{z_{k-1}}^{z_k} z \\, dz\n",
    "$$\n",
    "\n",
    "où $Q_{16}^{(k)}$ est le coefficient $Q_{16}$ pour le $k$-ième pli, et $z_{k-1}$ et $z_k$ sont les coordonnées des interfaces des plis.\n",
    "\n",
    "L'intégrale $\\int_{z_{k-1}}^{z_k} z \\, dz$ peut être calculée comme :\n",
    "\n",
    "$$\n",
    "\\int_{z_{k-1}}^{z_k} z \\, dz = \\frac{z_k^2 - z_{k-1}^2}{2}\n",
    "$$\n",
    "\n",
    "En substituant cette expression dans la somme, nous obtenons :\n",
    "\n",
    "$$\n",
    "b_{16} = \\sum_{k=1}^{N} Q_{16}^{(k)} \\frac{z_k^2 - z_{k-1}^2}{2}\n",
    "$$\n",
    "\n",
    "Cette expression permet de calculer le coefficient $b_{16}$ en fonction des propriétés des matériaux des plis et de leur position dans le stratifié.\n",
    "\n",
    "En résumé, pour déterminer $b_{16}$, vous devez connaître les valeurs de $Q_{16}$ pour chaque pli et les positions des interfaces des plis. Ensuite, vous pouvez utiliser la formule ci-dessus pour calculer $b_{16}$."
   ],
   "id": "57bad04ead3d2bc"
  },
  {
   "metadata": {
    "ExecuteTime": {
     "end_time": "2024-12-05T03:19:45.257495Z",
     "start_time": "2024-12-05T03:19:45.252112Z"
    }
   },
   "cell_type": "code",
   "source": "print(lam.inv_b_matrix)",
   "id": "70aab7706aa43623",
   "outputs": [
    {
     "name": "stdout",
     "output_type": "stream",
     "text": [
      "[[0.00000000e+00 0.00000000e+00 6.18265178e-05]\n",
      " [0.00000000e+00 0.00000000e+00 6.18265178e-05]\n",
      " [6.18265178e-05 6.18265178e-05 0.00000000e+00]]\n"
     ]
    }
   ],
   "execution_count": 4
  },
  {
   "metadata": {
    "ExecuteTime": {
     "end_time": "2024-12-05T03:17:09.953239Z",
     "start_time": "2024-12-05T03:17:09.951942Z"
    }
   },
   "cell_type": "code",
   "source": "",
   "id": "c285df3bd43ba11",
   "outputs": [],
   "execution_count": 2
  }
 ],
 "metadata": {
  "kernelspec": {
   "display_name": "Python 3",
   "language": "python",
   "name": "python3"
  },
  "language_info": {
   "codemirror_mode": {
    "name": "ipython",
    "version": 2
   },
   "file_extension": ".py",
   "mimetype": "text/x-python",
   "name": "python",
   "nbconvert_exporter": "python",
   "pygments_lexer": "ipython2",
   "version": "2.7.6"
  }
 },
 "nbformat": 4,
 "nbformat_minor": 5
}
